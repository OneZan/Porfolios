{
 "cells": [
  {
   "cell_type": "markdown",
   "id": "dc5b6d47-6361-429f-a89e-2a471fae4d1a",
   "metadata": {},
   "source": [
    "## Junction Risk + Porfolio"
   ]
  },
  {
   "cell_type": "code",
   "execution_count": 1,
   "id": "8b991167-795a-49a7-afbc-05c02008833d",
   "metadata": {},
   "outputs": [
    {
     "ename": "ModuleNotFoundError",
     "evalue": "No module named 'dash'",
     "output_type": "error",
     "traceback": [
      "\u001b[0;31m---------------------------------------------------------------------------\u001b[0m",
      "\u001b[0;31mModuleNotFoundError\u001b[0m                       Traceback (most recent call last)",
      "\u001b[0;32m<ipython-input-1-e69c1962d840>\u001b[0m in \u001b[0;36m<module>\u001b[0;34m\u001b[0m\n\u001b[0;32m----> 1\u001b[0;31m \u001b[0;32mimport\u001b[0m \u001b[0mdash\u001b[0m\u001b[0;34m\u001b[0m\u001b[0;34m\u001b[0m\u001b[0m\n\u001b[0m\u001b[1;32m      2\u001b[0m \u001b[0;31m#import dash_core_components as dcc\u001b[0m\u001b[0;34m\u001b[0m\u001b[0;34m\u001b[0m\u001b[0;34m\u001b[0m\u001b[0m\n\u001b[1;32m      3\u001b[0m \u001b[0;31m#import dash_html_components as html\u001b[0m\u001b[0;34m\u001b[0m\u001b[0;34m\u001b[0m\u001b[0;34m\u001b[0m\u001b[0m\n\u001b[1;32m      4\u001b[0m \u001b[0;32mimport\u001b[0m \u001b[0mdash\u001b[0m\u001b[0;34m.\u001b[0m\u001b[0mdcc\u001b[0m \u001b[0;32mas\u001b[0m \u001b[0mdcc\u001b[0m\u001b[0;34m\u001b[0m\u001b[0;34m\u001b[0m\u001b[0m\n\u001b[1;32m      5\u001b[0m \u001b[0;32mimport\u001b[0m \u001b[0mdash\u001b[0m\u001b[0;34m.\u001b[0m\u001b[0mhtml\u001b[0m \u001b[0;32mas\u001b[0m \u001b[0mhtml\u001b[0m\u001b[0;34m\u001b[0m\u001b[0;34m\u001b[0m\u001b[0m\n",
      "\u001b[0;31mModuleNotFoundError\u001b[0m: No module named 'dash'"
     ]
    }
   ],
   "source": [
    "import dash\n",
    "#import dash_core_components as dcc\n",
    "#import dash_html_components as html\n",
    "import dash.dcc as dcc\n",
    "import dash.html as html\n",
    "from dash.dependencies import Input,Output,State\n",
    "import pandas as pd\n",
    "import numpy as np\n",
    "import plotly.graph_objs as go\n",
    "import dash_daq as daq\n",
    "from pickle import load\n",
    "import cvxopt as opt\n",
    "from cvxopt import blas, solvers\n",
    "import sklearn\n",
    "\n",
    "from pypfopt.efficient_frontier import EfficientFrontier\n",
    "from pypfopt.expected_returns import mean_historical_return\n",
    "from pypfopt.risk_models import CovarianceShrinkage,risk_matrix\n",
    "\n",
    "from pypfopt import plotting\n",
    "import copy"
   ]
  },
  {
   "cell_type": "code",
   "execution_count": null,
   "id": "779ffd62-e5ca-494c-9181-284e3fa16926",
   "metadata": {},
   "outputs": [],
   "source": []
  },
  {
   "cell_type": "code",
   "execution_count": 9,
   "id": "1322a45f-8de8-4a56-8458-5d45bba2178b",
   "metadata": {},
   "outputs": [],
   "source": [
    "assets = pd.read_csv('../assets.csv',index_col=0)\n",
    "filename = 'risk_model_2.p'\n",
    "loaded_model = load(open(filename, 'rb'))"
   ]
  },
  {
   "cell_type": "code",
   "execution_count": 66,
   "id": "7a28ff4d-151b-4ccb-bb34-8bd6de0b98a8",
   "metadata": {},
   "outputs": [
    {
     "data": {
      "text/plain": [
       "Index(['ITOT', 'IVV', 'QQQ', 'VTI', 'IJR', 'VPL', 'VWO', 'SUSA', 'HYEM',\n",
       "       'MGV'],\n",
       "      dtype='object')"
      ]
     },
     "execution_count": 66,
     "metadata": {},
     "output_type": "execute_result"
    }
   ],
   "source": [
    "assets.columns"
   ]
  },
  {
   "cell_type": "code",
   "execution_count": 10,
   "id": "5ad57e44-5e29-485a-a6fc-126c188561ea",
   "metadata": {},
   "outputs": [
    {
     "name": "stdin",
     "output_type": "stream",
     "text": [
      "Edad: 30\n"
     ]
    }
   ],
   "source": [
    "edad = int(input(\"Edad:\"))"
   ]
  },
  {
   "cell_type": "code",
   "execution_count": 11,
   "id": "3ef0c9f1-78a5-4a97-88e1-7a8f728d3923",
   "metadata": {},
   "outputs": [
    {
     "name": "stdin",
     "output_type": "stream",
     "text": [
      "Seleccione su nivel educativo:\n",
      "0- Sin educación\n",
      "1- Ed. diferencial\n",
      "2- Ed. Básica\n",
      "3- Ed. Media\n",
      "4- CFT o IP\n",
      "5- Universitaria\n",
      "6- Postgrado\n",
      " 6\n"
     ]
    }
   ],
   "source": [
    "nivel_educativo = int(input(\"Seleccione su nivel educativo:\\n0- Sin educación\\n1- Ed. diferencial\\n2- Ed. Básica\\n3- Ed. Media\\n4- CFT o IP\\n5- Universitaria\\n6- Postgrado\\n\"))"
   ]
  },
  {
   "cell_type": "code",
   "execution_count": 5,
   "id": "cca2d745-bad0-4aed-8453-05155cd96d94",
   "metadata": {},
   "outputs": [
    {
     "data": {
      "text/plain": [
       "5"
      ]
     },
     "execution_count": 5,
     "metadata": {},
     "output_type": "execute_result"
    }
   ],
   "source": [
    "nivel_educativo"
   ]
  },
  {
   "cell_type": "code",
   "execution_count": 12,
   "id": "78026321-cb6d-4cb8-8e30-f1238630e29c",
   "metadata": {},
   "outputs": [
    {
     "name": "stdin",
     "output_type": "stream",
     "text": [
      "Seleccione su estado civil:\n",
      "1- Casado\n",
      "2- Conviviente\n",
      "3- Anulado\n",
      "4- Separado\n",
      "5 Viudo\n",
      "6- Soltero\n",
      "7- Divorciado\n",
      " 6\n"
     ]
    }
   ],
   "source": [
    "estado_civil = int(input(\"Seleccione su estado civil:\\n1- Casado\\n2- Conviviente\\n3- Anulado\\n4- Separado\\n5 Viudo\\n6- Soltero\\n7- Divorciado\\n\"))"
   ]
  },
  {
   "cell_type": "code",
   "execution_count": 13,
   "id": "b01eab16-f429-4070-b902-3e090e43644b",
   "metadata": {},
   "outputs": [
    {
     "name": "stdin",
     "output_type": "stream",
     "text": [
      "Seleccione su estado de ocupación actual:\n",
      "0- Desocupado\n",
      "1- Ocupado\n",
      " 1\n"
     ]
    }
   ],
   "source": [
    "ocup = int(input(\"Seleccione su estado de ocupación actual:\\n0- Desocupado\\n1- Ocupado\\n\"))"
   ]
  },
  {
   "cell_type": "code",
   "execution_count": 29,
   "id": "06dacce6-7b4b-4522-95b4-8a53411b2869",
   "metadata": {},
   "outputs": [
    {
     "name": "stdin",
     "output_type": "stream",
     "text": [
      "Seleccione el número de habitantes en su hogar:\n",
      "1- 1 o 2 personas\n",
      "2- 3 o 4 personas\n",
      "3- 5 o 6 personas\n",
      "5 más de 6 personas\n",
      " 5\n",
      "Ingrese un estimado de tu total de activos en pesos chilenos:\n",
      " 1000000\n"
     ]
    }
   ],
   "source": [
    "tr_numh = int(input(\"Seleccione el número de habitantes en su hogar:\\n1- 1 o 2 personas\\n2- 3 o 4 personas\\n3- 5 o 6 personas\\n5 más de 6 personas\\n\"))\n",
    "\n",
    "\n",
    "act_tot = int(input(\"Ingrese un estimado de tu total de activos en pesos chilenos:\\n\"))\n",
    "#estrato = int(input(\"Ingrese su estrato:\\n1- \\n6-\\n9-\"))\n",
    "#rci_dt  = float(input(\"Ingrese rci ( entre 0 y 1):\\n\"))"
   ]
  },
  {
   "cell_type": "code",
   "execution_count": 30,
   "id": "fc166e89-4cf0-481f-9593-ea4a85ce7204",
   "metadata": {},
   "outputs": [],
   "source": [
    "X_imput = {\"edad_ent\" : edad,\"neduc_ent\" : nivel_educativo, \"est_civil_ent\": estado_civil, \"ocup_ent\":ocup, \"tr_numh\": tr_numh,\"act_toth\":act_tot}\n",
    "#X_imput = {\"edad_ent\" : edad,\"neduc_ent\" : nivel_educativo, \"est_civil_ent\": estado_civil, \"ocup_ent\":ocup, \"estrato\":estrato, \"tr_numh\": tr_numh,\"act_toth\":act_tot,\"rci_dt\":rci_dt}"
   ]
  },
  {
   "cell_type": "raw",
   "id": "af3f0625-2ea2-4b1c-b346-43a09d3908a8",
   "metadata": {},
   "source": [
    "X_imput = {\"edad_ent\" : 21,\"neduc_ent\" : 4.0, \"est_civil_ent\": 6.0, \"ocup_ent\":1.0, \"estrato\":9.0, \"tr_numh\": 2.0,\"act_toth\":9.090000e+08,\"rci_dt\":0.34}"
   ]
  },
  {
   "cell_type": "code",
   "execution_count": 31,
   "id": "44d2ff0e-50e9-43e9-a791-a3efcb3c5f9f",
   "metadata": {},
   "outputs": [],
   "source": [
    "X_imput = pd.DataFrame(np.array(list(X_imput.values())).reshape(1,-1),columns = list(X_imput.keys()))"
   ]
  },
  {
   "cell_type": "code",
   "execution_count": 32,
   "id": "885ff247-76cd-486f-b9a3-08cdbbf1cbe0",
   "metadata": {},
   "outputs": [],
   "source": [
    "risk = loaded_model.predict(X_imput)"
   ]
  },
  {
   "cell_type": "code",
   "execution_count": 63,
   "id": "5e22536b-7fc8-4f81-a087-d142f9029934",
   "metadata": {},
   "outputs": [],
   "source": [
    "risk = [0.80]"
   ]
  },
  {
   "cell_type": "code",
   "execution_count": 64,
   "id": "e13f5a83-d27d-4c08-8828-25d205773e5a",
   "metadata": {},
   "outputs": [],
   "source": [
    "def get_asset_allocation(risk,stock_ticker = assets.columns,initial_inv = 100):\n",
    "    #ipdb.set_trace()\n",
    "    assets_selected = assets.loc[:,stock_ticker]\n",
    "    #return_vec = np.array(assets_selected.pct_change().dropna(axis=0)).T\n",
    "    mu = mean_historical_return(assets,compounding = False)\n",
    "    #S = CovarianceShrinkage(assets).ledoit_wolf()\n",
    "    S = risk_matrix(assets)#.sample_cov()\n",
    "    ef = EfficientFrontier(mu, S)\n",
    "\n",
    "    #risk = np.sqrt(risk)\n",
    "    #print(risk[0])\n",
    "    weights = ef.efficient_risk(risk[0])\n",
    "    ef.portfolio_performance(verbose=True)\n",
    "\n",
    "    returns_final= np.dot(assets.loc[:, weights.keys()], np.array(list(weights.values())))\n",
    "    #returns_sum = np.cumsum(returns_final)\n",
    "    #print(returns_sum)\n",
    "    returns_sum_pd = pd.DataFrame(returns_final, index = assets.index )\n",
    "    returns_sum_pd = returns_sum_pd - returns_sum_pd.iloc[0,:] + initial_inv   \n",
    "    return weights,returns_sum_pd"
   ]
  },
  {
   "cell_type": "code",
   "execution_count": 65,
   "id": "919514b9-4e7d-4664-9953-4286c0125d70",
   "metadata": {},
   "outputs": [
    {
     "name": "stdout",
     "output_type": "stream",
     "text": [
      "Expected annual return: 17.2%\n",
      "Annual volatility: 21.1%\n",
      "Sharpe Ratio: 0.72\n",
      "OrderedDict([('ITOT', 5.869162e-10), ('IVV', 6.108616e-10), ('QQQ', 0.999999996196945), ('VTI', 5.775537e-10), ('IJR', 5.29845e-10), ('VPL', 1.472618e-10), ('VWO', 1.223078e-10), ('SUSA', 5.993193e-10), ('HYEM', 9.73862e-11), ('MGV', 5.31667e-10)])\n"
     ]
    }
   ],
   "source": [
    "w,r = get_asset_allocation(risk)\n",
    "print(w)"
   ]
  },
  {
   "cell_type": "markdown",
   "id": "61765ef6-6ff9-4fd7-a236-4ebfd705f4e3",
   "metadata": {},
   "source": [
    "## 2d0\n",
    "\n",
    "Mappear el riesgo del ML correctamente al riesgo de los porftolios.\n",
    "* El riesgo de los porfolios está bounded\n",
    "* Poner varios assets \n",
    "* acTuaizar los assets\n"
   ]
  },
  {
   "cell_type": "code",
   "execution_count": null,
   "id": "26200cf4-2cdf-4d8f-a46d-6318d62b75fb",
   "metadata": {},
   "outputs": [],
   "source": []
  }
 ],
 "metadata": {
  "kernelspec": {
   "display_name": "Python 3",
   "language": "python",
   "name": "python3"
  },
  "language_info": {
   "codemirror_mode": {
    "name": "ipython",
    "version": 3
   },
   "file_extension": ".py",
   "mimetype": "text/x-python",
   "name": "python",
   "nbconvert_exporter": "python",
   "pygments_lexer": "ipython3",
   "version": "3.8.8"
  }
 },
 "nbformat": 4,
 "nbformat_minor": 5
}
