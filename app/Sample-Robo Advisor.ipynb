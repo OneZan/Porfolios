{
 "cells": [
  {
   "cell_type": "markdown",
   "metadata": {},
   "source": [
    "# Robo Advisor - Dashboard"
   ]
  },
  {
   "cell_type": "markdown",
   "metadata": {},
   "source": [
    "## Content\n",
    "* [1. Loading the Libraries and the data](#1)\n",
    "* [2. Code for the dashboard Interface](#2)\n",
    "* [3. Code for the underlying functions within the interface](#3)\n",
    "\n",
    "\n",
    "#### Note that the dashboard opens up in a separate browser. The url for the browser will be produced in the end of the code and would look something like \"http://127.0.0.1:8080\""
   ]
  },
  {
   "cell_type": "markdown",
   "metadata": {},
   "source": [
    "<a id='1'></a>\n",
    "## 1. Loading the Libraries and the data"
   ]
  },
  {
   "cell_type": "markdown",
   "metadata": {},
   "source": [
    "Checking if the additional packages needed are present, if not install them. These are checked separately as they aren't included in requirement.txt as they aren't used for all case studies."
   ]
  },
  {
   "cell_type": "raw",
   "metadata": {},
   "source": [
    "import pkg_resources\n",
    "import pip\n",
    "installedPackages = {pkg.key for pkg in pkg_resources.working_set}\n",
    "required = {'dash', 'dash-core-components', 'dash-html-components', 'dash-daq', 'cvxopt' }\n",
    "missing = required - installedPackages\n",
    "if missing:\n",
    "    !pip install dash==1.9.1\n",
    "    !pip install dash-core-components==1.8.1\n",
    "    !pip install dash-html-components==1.0.2\n",
    "    !pip install dash-daq==0.4.0\n",
    "    !pip install cvxopt==1.2.5"
   ]
  },
  {
   "cell_type": "markdown",
   "metadata": {},
   "source": [
    "Importing the packages needed"
   ]
  },
  {
   "cell_type": "code",
   "execution_count": 1,
   "metadata": {},
   "outputs": [],
   "source": [
    "import dash\n",
    "#import dash_core_components as dcc\n",
    "#import dash_html_components as html\n",
    "import dash.dcc as dcc\n",
    "import dash.html as html\n",
    "from dash.dependencies import Input,Output,State\n",
    "import pandas as pd\n",
    "import numpy as np\n",
    "import plotly.graph_objs as go\n",
    "import dash_daq as daq\n",
    "from pickle import load\n",
    "import cvxopt as opt\n",
    "from cvxopt import blas, solvers\n",
    "import sklearn\n",
    "\n",
    "from pypfopt.efficient_frontier import EfficientFrontier\n",
    "from pypfopt.expected_returns import mean_historical_return\n",
    "from pypfopt.risk_models import CovarianceShrinkage,risk_matrix\n",
    "\n",
    "from pypfopt import plotting\n",
    "import copy"
   ]
  },
  {
   "cell_type": "markdown",
   "metadata": {},
   "source": [
    "### Load the data of the investors/individuals"
   ]
  },
  {
   "cell_type": "code",
   "execution_count": 2,
   "metadata": {},
   "outputs": [
    {
     "data": {
      "text/html": [
       "<div>\n",
       "<style scoped>\n",
       "    .dataframe tbody tr th:only-of-type {\n",
       "        vertical-align: middle;\n",
       "    }\n",
       "\n",
       "    .dataframe tbody tr th {\n",
       "        vertical-align: top;\n",
       "    }\n",
       "\n",
       "    .dataframe thead th {\n",
       "        text-align: right;\n",
       "    }\n",
       "</style>\n",
       "<table border=\"1\" class=\"dataframe\">\n",
       "  <thead>\n",
       "    <tr style=\"text-align: right;\">\n",
       "      <th></th>\n",
       "      <th>AGE07</th>\n",
       "      <th>EDCL07</th>\n",
       "      <th>MARRIED07</th>\n",
       "      <th>KIDS07</th>\n",
       "      <th>LIFECL07</th>\n",
       "      <th>OCCAT107</th>\n",
       "      <th>INCOME07</th>\n",
       "      <th>RISK07</th>\n",
       "      <th>WSAVED07</th>\n",
       "      <th>SPENDMOR07</th>\n",
       "      <th>NETWORTH07</th>\n",
       "      <th>TrueRiskTol</th>\n",
       "    </tr>\n",
       "  </thead>\n",
       "  <tbody>\n",
       "    <tr>\n",
       "      <th>0</th>\n",
       "      <td>47</td>\n",
       "      <td>2</td>\n",
       "      <td>1</td>\n",
       "      <td>0</td>\n",
       "      <td>2</td>\n",
       "      <td>1</td>\n",
       "      <td>56443.744181</td>\n",
       "      <td>3</td>\n",
       "      <td>1</td>\n",
       "      <td>5</td>\n",
       "      <td>352641.7113</td>\n",
       "      <td>6.947439</td>\n",
       "    </tr>\n",
       "  </tbody>\n",
       "</table>\n",
       "</div>"
      ],
      "text/plain": [
       "   AGE07  EDCL07  MARRIED07  KIDS07  LIFECL07  OCCAT107      INCOME07  RISK07  \\\n",
       "0     47       2          1       0         2         1  56443.744181       3   \n",
       "\n",
       "   WSAVED07  SPENDMOR07   NETWORTH07  TrueRiskTol  \n",
       "0         1           5  352641.7113     6.947439  "
      ]
     },
     "execution_count": 2,
     "metadata": {},
     "output_type": "execute_result"
    }
   ],
   "source": [
    "# df.head()\n",
    "investors = pd.read_csv('InputData.csv', index_col = 0 )\n",
    "investors.head(1)"
   ]
  },
  {
   "cell_type": "markdown",
   "metadata": {},
   "source": [
    "### Load the market data and clean the data"
   ]
  },
  {
   "cell_type": "code",
   "execution_count": 3,
   "metadata": {},
   "outputs": [],
   "source": [
    "assets = pd.read_csv('../assets.csv',index_col=0)\n",
    "#missing_fractions = assets.isnull().mean().sort_values(ascending=False)\n",
    "\n",
    "#missing_fractions.head(10)\n",
    "\n",
    "#drop_list = sorted(list(missing_fractions[missing_fractions > 0.3].index))\n",
    "\n",
    "#assets.drop(labels=drop_list, axis=1, inplace=True)\n",
    "#assets.shape\n",
    "# Fill the missing values with the last value available in the dataset. \n",
    "#assets=assets.fillna(method='ffill')\n",
    "#assets.head(2)"
   ]
  },
  {
   "cell_type": "code",
   "execution_count": 4,
   "metadata": {},
   "outputs": [
    {
     "data": {
      "text/plain": [
       "Index(['ITOT', 'IVV', 'QQQ', 'VTI', 'IJR', 'VPL', 'VWO', 'SUSA', 'HYEM',\n",
       "       'MGV'],\n",
       "      dtype='object')"
      ]
     },
     "execution_count": 4,
     "metadata": {},
     "output_type": "execute_result"
    }
   ],
   "source": [
    "assets.columns#.describe()"
   ]
  },
  {
   "cell_type": "code",
   "execution_count": 5,
   "metadata": {},
   "outputs": [],
   "source": [
    "options=np.array(assets.columns)\n",
    "# str(options)\n",
    "options = []\n",
    "\n",
    "for tic in assets.columns:\n",
    "    #{'label': 'user sees', 'value': 'script sees'}\n",
    "    mydict = {}\n",
    "    mydict['label'] = tic #Apple Co. AAPL\n",
    "    mydict['value'] = tic\n",
    "    options.append(mydict)"
   ]
  },
  {
   "cell_type": "markdown",
   "metadata": {},
   "source": [
    "<a id='2'></a>\n",
    "## 2. Code for the dashboard Interface"
   ]
  },
  {
   "cell_type": "code",
   "execution_count": 6,
   "metadata": {},
   "outputs": [],
   "source": [
    "app = dash.Dash(__name__, external_stylesheets=['https://codepen.io/chriddyp/pen/bWLwgP.css'])"
   ]
  },
  {
   "cell_type": "code",
   "execution_count": 7,
   "metadata": {},
   "outputs": [],
   "source": [
    "app.layout = html.Div([\n",
    "    html.Div([ \n",
    "        #Dashboard Name\n",
    "        html.Div([\n",
    "            html.H3(children='Robo Advisor Dashboard'),\n",
    "            html.Div([\n",
    "                html.H5(children='Step 1 : Enter Investor Characteristics '),            \n",
    "                ],style={'display': 'inline-block','vertical-align': 'top',  'width': '30%',\\\n",
    "                         'color':'black', 'background-color': 'LightGray'}), \n",
    "            html.Div([\n",
    "                html.H5(children='Step 2 : Asset Allocation and portfolio performance'),            \n",
    "                ],style={'display': 'inline-block', 'vertical-align': 'top',  \\\n",
    "                         'color':'white','horizontalAlign' : \"left\", 'width': '70%', 'background-color':'black'}), \n",
    "            ],style={'font-family': 'calibri'}),        \n",
    "         \n",
    "         #All the Investor Characteristics\n",
    "                      \n",
    "       #********************Demographics Features DropDown********\n",
    "         html.Div([   \n",
    "          html.Div([ \n",
    "            \n",
    "            html.Label('Edad:',style={'padding': 5}),\n",
    "            dcc.Slider(\n",
    "                id='Edad',\n",
    "                min = 18,\n",
    "                max = 80,\n",
    "                marks={ 25: '25',35: '35',45: '45',55: '55',65: '65'},              \n",
    "                value=30),   \n",
    "            #html.Br(),\n",
    "            \n",
    "            html.Label('Niv. Educ.:', style={'padding': 5}),\n",
    "            dcc.Slider(\n",
    "                id='neduc_ent',\n",
    "                #min = investors['NETWORTH07'].min(), \n",
    "                min = 0.0, max = 5.0,\n",
    "                marks={0.0: 'Sin educación',1.0: 'Ed. diferencial',2.0: \"Ed. Básica\",3.0: 'Ed. Media',4.0: 'CFT o IP',5.0 :\"Universitaria\",6.0:\"Postgrado\"},                \n",
    "                value=3.0),\n",
    "            #html.Br(),\n",
    "            html.Label('Personas en el hogar:', style={'padding': 5}),\n",
    "            dcc.Slider(\n",
    "                id='tr_numh',\n",
    "                #min = investors['INCOME07'].min(), max = investors['INCOME07'].max(),\n",
    "                min = 1.0,\n",
    "                max = 7.0,\n",
    "                marks={1.0: 'entre 1 y 2',2.0: 'entre 3 y 4',3.0: 'entre 5 y 6',4.0: '+6 ',},\n",
    "                value=2.0),\n",
    "            \n",
    "           # html.Br(),\n",
    "            html.Label('Education Level (scale of 4):', style={'padding': 5}),\n",
    "            dcc.Slider(\n",
    "                id='Edu',\n",
    "                min = investors['EDCL07'].min(), max = investors['EDCL07'].max(),\n",
    "                marks={ 1: '1',2: '2',3: '3',4: '4'},\n",
    "                value=2), \n",
    "            #html.Br(),\n",
    "            html.Label('Married:', style={'padding': 5}),\n",
    "            dcc.Slider(\n",
    "                id='Married',\n",
    "                min = investors['MARRIED07'].min(), max = investors['MARRIED07'].max(),\n",
    "                marks={ 1: '1',2: '2'},\n",
    "                value=1), \n",
    "            #html.Br(),\n",
    "            html.Label('Kids:', style={'padding': 5}),\n",
    "            dcc.Slider(\n",
    "                id='Kids',\n",
    "                min = investors['KIDS07'].min(), max = investors['KIDS07'].max(),\n",
    "                #marks={ 1: '1',2: '2',3: '3',4: '4'},\n",
    "                marks=[{'label': j, 'value': j} for j in investors['KIDS07'].unique()],\n",
    "                value=3), \n",
    "            #html.Br(),\n",
    "            html.Label('Occupation:', style={'padding': 5}),\n",
    "            dcc.Slider(\n",
    "                id='Occ',\n",
    "                min = investors['OCCAT107'].min(), max = investors['OCCAT107'].max(),\n",
    "                marks={ 1: '1',2: '2',3: '3',4: '4'},\n",
    "                value=3),            \n",
    "            #html.Br(),\n",
    "            html.Label('Willingness to take Risk:', style={'padding': 5}),\n",
    "            dcc.Slider(\n",
    "                id='Risk',\n",
    "                min = investors['RISK07'].min(), max = investors['RISK07'].max(),\n",
    "                marks={ 1: '1',2: '2',3: '3',4: '4'},\n",
    "                value=3), \n",
    "            #html.Br(),\n",
    "            html.Button(id='investor_char_button',\n",
    "                            n_clicks = 0,\n",
    "                            children = 'Calculate Risk Tolerance',\n",
    "                            style = {'fontSize': 14, 'marginLeft': '30px', 'color' : 'white',\\\n",
    "                                     'horizontal-align': 'left','backgroundColor': 'grey'}),             \n",
    "            #html.Br(),            \n",
    "              ],style={'width': '80%'}),           \n",
    "            \n",
    "            ],style={'width': '50%', 'font-family': 'calibri','vertical-align': 'top','display': 'inline-block'\\\n",
    "                     }),\n",
    "#                     , \"border\":\".5px black solid\"}),\n",
    "\n",
    "    # ********************Risk Tolerance Charts********            \n",
    "       html.Div([    \n",
    "               #html.H5(children='Step 2 : Enter the Instruments for the allocation portfolio'),  \n",
    "        html.Div([\n",
    "            html.Div([ \n",
    "                html.Label('Risk Tolerance (scale of 100) :', style={'padding': 5}),\n",
    "                dcc.Input(id= 'risk-tolerance-text'),\n",
    "               \n",
    "                ],style={'width': '100%','font-family': 'calibri','vertical-align': 'top','display': 'inline-block'}),\n",
    "\n",
    "            html.Div([ \n",
    "                html.Label('Select the assets for the portfolio:', style={'padding': 5}),\n",
    "                dcc.Dropdown(\n",
    "                        id='ticker_symbol',\n",
    "                        options = options,\n",
    "                        value = list(assets.columns),#['GOOGL', 'FB', 'GS','MS','GE','MSFT'], \n",
    "                        multi = True\n",
    "                        # style={'fontSize': 24, 'width': 75}\n",
    "                        ),\n",
    "                html.Button(id='submit-asset_alloc_button',\n",
    "                            n_clicks = 0,\n",
    "                            children = 'Submit',\n",
    "                            style = {'fontSize': 12, 'marginLeft': '25px','color' : 'white', 'backgroundColor': 'grey'}\n",
    "\n",
    "                ), \n",
    "               ],style={'width': '100%','font-family': 'calibri','vertical-align': 'top','display': 'inline-block'}),\n",
    "            ],style={'width': '100%','display': 'inline-block','font-family': 'calibri','vertical-align': 'top'}),\n",
    "           \n",
    "           html.Div([                \n",
    "                html.Div([\n",
    "                    dcc.Graph(id='Asset-Allocation'), \n",
    "                    ], style={'width': '50%', 'vertical-align': 'top', 'display': 'inline-block', \\\n",
    "                      'font-family': 'calibri', 'horizontal-align': 'right'}),\n",
    "                html.Div([\n",
    "                    dcc.Graph(id='Performance')\n",
    "                    ], style={'width': '50%', 'vertical-align': 'top', 'display': 'inline-block', \\\n",
    "                      'font-family': 'calibri', 'horizontal-align': 'right'}),\n",
    "                   ], style={'width': '100%', 'vertical-align': 'top', 'display': 'inline-block', \\\n",
    "                          'font-family': 'calibri', 'horizontal-align': 'right'}),          \n",
    "\n",
    "\n",
    "        ], style={'width': '70%','display': 'inline-block','font-family': 'calibri','vertical-align': 'top', 'horizontal-align': 'right'}),\n",
    "       ],style={'width': '70%','display': 'inline-block','font-family': 'calibri','vertical-align': 'top'}),               \n",
    "\n",
    "  ])    "
   ]
  },
  {
   "cell_type": "markdown",
   "metadata": {},
   "source": [
    "<a id='3'></a>\n",
    "## 3. Code for the underlying functions within the interface\n",
    "\n",
    "The steps performed are as follows: \n",
    "\n",
    "1) Loading the regression model for predicting risk tolerance\n",
    "\n",
    "2) Using markovitz mean variance analysis for asset allocation\n",
    "\n",
    "3) Producing chart for the asset allocation and portfolio performance\n",
    "\n",
    "#### Click the url produced by this code to see the dashboard"
   ]
  },
  {
   "cell_type": "code",
   "execution_count": 16,
   "metadata": {},
   "outputs": [],
   "source": [
    "def predict_riskTolerance(X_input):\n",
    "\n",
    "    filename = '../product/risk_model.p'\n",
    "    loaded_model = load(open(filename, 'rb'))\n",
    "    # estimate accuracy on validation set\n",
    "    predictions = loaded_model.predict(X_input)\n",
    "    print(\"\\n\\n\")\n",
    "    print(X_input)\n",
    "    print(predictions)\n",
    "    print(\"\\n\\n\")\n",
    "    return float(predictions)\n",
    "\n",
    "#Asset allocation given the Return, variance\n",
    "\"\"\"def get_asset_allocation(riskTolerance,stock_ticker):\n",
    "    #ipdb.set_trace()\n",
    "    assets_selected = assets.loc[:,stock_ticker]\n",
    "    return_vec = np.array(assets_selected.pct_change().dropna(axis=0)).T\n",
    "    n = len(return_vec)\n",
    "    returns = np.asmatrix(return_vec)\n",
    "    mus = 1-riskTolerance\n",
    "    \n",
    "    # Convert to cvxopt matrices\n",
    "    S = opt.matrix(np.cov(return_vec))\n",
    "    pbar = opt.matrix(np.mean(return_vec, axis=1))\n",
    "    \n",
    "    # Create constraint matrices\n",
    "    G = -opt.matrix(np.eye(n))   # negative n x n identity matrix\n",
    "    h = opt.matrix(0.0, (n ,1))\n",
    "    A = opt.matrix(1.0, (1, n))\n",
    "    b = opt.matrix(1.0)\n",
    "    \n",
    "    # Calculate efficient frontier weights using quadratic programming\n",
    "    portfolios = solvers.qp(mus*S, -pbar, G, h, A, b)\n",
    "    w=portfolios['x'].T\n",
    "    print (w)\n",
    "    Alloc =  pd.DataFrame(data = np.array(portfolios['x']),index = assets_selected.columns)\n",
    "\n",
    "    # Calculate efficient frontier weights using quadratic programming\n",
    "    portfolios = solvers.qp(mus*S, -pbar, G, h, A, b)\n",
    "    returns_final=(np.array(assets_selected) * np.array(w))\n",
    "    returns_sum = np.sum(returns_final,axis =1)\n",
    "    returns_sum_pd = pd.DataFrame(returns_sum, index = assets.index )\n",
    "    returns_sum_pd = returns_sum_pd - returns_sum_pd.iloc[0,:] + 100   \n",
    "    return Alloc,returns_sum_pd\n",
    "\"\"\"\n",
    "#Asset allocation given the Return, variance\n",
    "def get_asset_allocation(riskTolerance,stock_ticker = assets.columns,initial_inv = 100):\n",
    "    #ipdb.set_trace()\n",
    "    assets_selected = assets.loc[:,stock_ticker]\n",
    "    #return_vec = np.array(assets_selected.pct_change().dropna(axis=0)).T\n",
    "    mu = mean_historical_return(assets,compounding = False)\n",
    "    #S = CovarianceShrinkage(assets).ledoit_wolf()\n",
    "    S = risk_matrix(assets)#.sample_cov()\n",
    "    \n",
    "    ef = EfficientFrontier(mu, S)\n",
    "    print(\"ASSET\")\n",
    "    print(riskTolerance)\n",
    "    print(\"\\n\")\n",
    "    risk = np.sqrt(riskTolerance)\n",
    "\n",
    "    weights = ef.efficient_risk(risk)\n",
    "    ef.portfolio_performance(verbose=True)\n",
    "\n",
    "    \n",
    "    \n",
    "    #mus = 1-riskTolerance\n",
    "    \n",
    "    # Convert to cvxopt matrices\n",
    "    #S = opt.matrix(np.cov(return_vec))\n",
    "    #pbar = opt.matrix(np.mean(return_vec, axis=1))\n",
    "    \n",
    "    # Create constraint matrices\n",
    "    #G = -opt.matrix(np.eye(n))   # negative n x n identity matrix\n",
    "    #h = opt.matrix(0.0, (n ,1))\n",
    "    #A = opt.matrix(1.0, (1, n))\n",
    "    #b = opt.matrix(1.0)\n",
    "    \n",
    "    # Calculate efficient frontier weights using quadratic programming\n",
    "    #portfolios = solvers.qp(mus*S, -pbar, G, h, A, b)\n",
    "    #w=portfolios['x'].T\n",
    "    #print (weights)\n",
    "    #Alloc =  pd.DataFrame(data = np.array(portfolios['x']),index = assets_selected.columns)\n",
    "\n",
    "    # Calculate efficient frontier weights using quadratic programming\n",
    "    #portfolios = solvers.qp(mus*S, -pbar, G, h, A, b)\n",
    "    returns_final= np.dot(assets.loc[:, weights.keys()], np.array(list(weights.values())))\n",
    "    #returns_sum = np.cumsum(returns_final)\n",
    "    #print(returns_sum)\n",
    "    returns_sum_pd = pd.DataFrame(returns_final, index = assets.index )\n",
    "    returns_sum_pd = returns_sum_pd - returns_sum_pd.iloc[0,:] + initial_inv   \n",
    "    return weights,returns_sum_pd"
   ]
  },
  {
   "cell_type": "code",
   "execution_count": 20,
   "metadata": {},
   "outputs": [
    {
     "name": "stdout",
     "output_type": "stream",
     "text": [
      "ASSET\n",
      "0.01\n",
      "\n",
      "\n",
      "Expected annual return: 5.8%\n",
      "Annual volatility: 10.0%\n",
      "Sharpe Ratio: 0.38\n"
     ]
    },
    {
     "data": {
      "text/plain": [
       "(OrderedDict([('ITOT', 7.015461e-10),\n",
       "              ('IVV', 8.629366e-10),\n",
       "              ('QQQ', 0.0679131148127694),\n",
       "              ('VTI', 6.45733e-10),\n",
       "              ('IJR', 3.002583e-10),\n",
       "              ('VPL', 3.9388e-10),\n",
       "              ('VWO', 1.435757e-10),\n",
       "              ('SUSA', 1.4310513e-09),\n",
       "              ('HYEM', 0.7086193404428072),\n",
       "              ('MGV', 0.2234675402653682)]),\n",
       "                                     0\n",
       " Date                                 \n",
       " 2012-12-31 00:00:00-05:00  100.000000\n",
       " 2013-01-02 00:00:00-05:00  100.340751\n",
       " 2013-01-03 00:00:00-05:00  100.353704\n",
       " 2013-01-04 00:00:00-05:00  100.429490\n",
       " 2013-01-07 00:00:00-05:00  100.441923\n",
       " ...                               ...\n",
       " 2022-12-23 00:00:00-05:00  132.030443\n",
       " 2022-12-27 00:00:00-05:00  131.806216\n",
       " 2022-12-28 00:00:00-05:00  131.307438\n",
       " 2022-12-29 00:00:00-05:00  132.060298\n",
       " 2022-12-30 00:00:00-05:00  131.996505\n",
       " \n",
       " [2519 rows x 1 columns])"
      ]
     },
     "execution_count": 20,
     "metadata": {},
     "output_type": "execute_result"
    }
   ],
   "source": [
    "get_asset_allocation(0.01)"
   ]
  },
  {
   "cell_type": "code",
   "execution_count": null,
   "metadata": {
    "collapsed": true,
    "jupyter": {
     "outputs_hidden": true
    },
    "tags": []
   },
   "outputs": [
    {
     "name": "stdout",
     "output_type": "stream",
     "text": [
      "Dash is running on http://127.0.0.1:8050/\n",
      "\n",
      " * Serving Flask app '__main__'\n",
      " * Debug mode: off\n"
     ]
    },
    {
     "name": "stderr",
     "output_type": "stream",
     "text": [
      "\u001b[31m\u001b[1mWARNING: This is a development server. Do not use it in a production deployment. Use a production WSGI server instead.\u001b[0m\n",
      " * Running on http://127.0.0.1:8050\n",
      "\u001b[33mPress CTRL+C to quit\u001b[0m\n",
      "127.0.0.1 - - [02/Jan/2023 18:13:04] \"GET / HTTP/1.1\" 200 -\n",
      "127.0.0.1 - - [02/Jan/2023 18:13:05] \"GET /_dash-dependencies HTTP/1.1\" 200 -\n",
      "127.0.0.1 - - [02/Jan/2023 18:13:05] \"GET /_dash-layout HTTP/1.1\" 200 -\n",
      "127.0.0.1 - - [02/Jan/2023 18:13:05] \"\u001b[36mGET /_dash-component-suites/dash/dcc/async-slider.js HTTP/1.1\u001b[0m\" 304 -\n",
      "127.0.0.1 - - [02/Jan/2023 18:13:05] \"\u001b[36mGET /_dash-component-suites/dash/dcc/async-dropdown.js HTTP/1.1\u001b[0m\" 304 -\n",
      "127.0.0.1 - - [02/Jan/2023 18:13:05] \"\u001b[36mGET /_dash-component-suites/dash/dcc/async-graph.js HTTP/1.1\u001b[0m\" 304 -\n",
      "127.0.0.1 - - [02/Jan/2023 18:13:05] \"\u001b[36mGET /_dash-component-suites/dash/dcc/async-plotlyjs.js HTTP/1.1\u001b[0m\" 304 -\n"
     ]
    },
    {
     "name": "stdout",
     "output_type": "stream",
     "text": [
      "None\n",
      "ASSET\n",
      "None\n",
      "\n",
      "\n",
      "Exception on /_dash-update-component [POST]\n",
      "AttributeError: 'NoneType' object has no attribute 'sqrt'\n",
      "\n",
      "The above exception was the direct cause of the following exception:\n",
      "\n",
      "Traceback (most recent call last):\n",
      "  File \"/home/martin/anaconda3/envs/roboadvisor/lib/python3.10/site-packages/flask/app.py\", line 2525, in wsgi_app\n",
      "    response = self.full_dispatch_request()\n",
      "  File \"/home/martin/anaconda3/envs/roboadvisor/lib/python3.10/site-packages/flask/app.py\", line 1822, in full_dispatch_request\n",
      "    rv = self.handle_user_exception(e)\n",
      "  File \"/home/martin/anaconda3/envs/roboadvisor/lib/python3.10/site-packages/flask/app.py\", line 1820, in full_dispatch_request\n",
      "    rv = self.dispatch_request()\n",
      "  File \"/home/martin/anaconda3/envs/roboadvisor/lib/python3.10/site-packages/flask/app.py\", line 1796, in dispatch_request\n",
      "    return self.ensure_sync(self.view_functions[rule.endpoint])(**view_args)\n",
      "  File \"/home/martin/anaconda3/envs/roboadvisor/lib/python3.10/site-packages/dash/dash.py\", line 1274, in dispatch\n",
      "    ctx.run(\n",
      "  File \"/home/martin/anaconda3/envs/roboadvisor/lib/python3.10/site-packages/dash/_callback.py\", line 440, in add_context\n",
      "    output_value = func(*func_args, **func_kwargs)  # %% callback invoked %%\n",
      "  File \"/tmp/ipykernel_2043108/4052910430.py\", line 35, in update_asset_allocationChart\n",
      "    Allocated, InvestmentReturn = get_asset_allocation(risk_tolerance,stock_ticker)\n",
      "  File \"/tmp/ipykernel_2043108/4051367590.py\", line 59, in get_asset_allocation\n",
      "    risk = np.sqrt(riskTolerance)\n",
      "TypeError: loop of ufunc does not support argument 0 of type NoneType which has no callable sqrt method\n"
     ]
    },
    {
     "name": "stderr",
     "output_type": "stream",
     "text": [
      "127.0.0.1 - - [02/Jan/2023 18:13:05] \"\u001b[35m\u001b[1mPOST /_dash-update-component HTTP/1.1\u001b[0m\" 500 -\n"
     ]
    },
    {
     "name": "stdout",
     "output_type": "stream",
     "text": [
      "0\n",
      "ASSET\n",
      "0\n",
      "\n",
      "\n",
      "Exception on /_dash-update-component [POST]\n",
      "Traceback (most recent call last):\n",
      "  File \"/home/martin/anaconda3/envs/roboadvisor/lib/python3.10/site-packages/flask/app.py\", line 2525, in wsgi_app\n",
      "    response = self.full_dispatch_request()\n",
      "  File \"/home/martin/anaconda3/envs/roboadvisor/lib/python3.10/site-packages/flask/app.py\", line 1822, in full_dispatch_request\n",
      "    rv = self.handle_user_exception(e)\n",
      "  File \"/home/martin/anaconda3/envs/roboadvisor/lib/python3.10/site-packages/flask/app.py\", line 1820, in full_dispatch_request\n",
      "    rv = self.dispatch_request()\n",
      "  File \"/home/martin/anaconda3/envs/roboadvisor/lib/python3.10/site-packages/flask/app.py\", line 1796, in dispatch_request\n",
      "    return self.ensure_sync(self.view_functions[rule.endpoint])(**view_args)\n",
      "  File \"/home/martin/anaconda3/envs/roboadvisor/lib/python3.10/site-packages/dash/dash.py\", line 1274, in dispatch\n",
      "    ctx.run(\n",
      "  File \"/home/martin/anaconda3/envs/roboadvisor/lib/python3.10/site-packages/dash/_callback.py\", line 440, in add_context\n",
      "    output_value = func(*func_args, **func_kwargs)  # %% callback invoked %%\n",
      "  File \"/tmp/ipykernel_2043108/4052910430.py\", line 35, in update_asset_allocationChart\n",
      "    Allocated, InvestmentReturn = get_asset_allocation(risk_tolerance,stock_ticker)\n",
      "  File \"/tmp/ipykernel_2043108/4051367590.py\", line 59, in get_asset_allocation\n",
      "    risk = np.sqrt(riskTolerance)\n",
      "TypeError: ufunc 'sqrt' not supported for the input types, and the inputs could not be safely coerced to any supported types according to the casting rule ''safe''\n"
     ]
    },
    {
     "name": "stderr",
     "output_type": "stream",
     "text": [
      "127.0.0.1 - - [02/Jan/2023 18:13:10] \"\u001b[35m\u001b[1mPOST /_dash-update-component HTTP/1.1\u001b[0m\" 500 -\n"
     ]
    },
    {
     "name": "stdout",
     "output_type": "stream",
     "text": [
      "0.\n",
      "ASSET\n",
      "0.\n",
      "\n",
      "\n",
      "Exception on /_dash-update-component [POST]\n",
      "Traceback (most recent call last):\n",
      "  File \"/home/martin/anaconda3/envs/roboadvisor/lib/python3.10/site-packages/flask/app.py\", line 2525, in wsgi_app\n",
      "    response = self.full_dispatch_request()\n",
      "  File \"/home/martin/anaconda3/envs/roboadvisor/lib/python3.10/site-packages/flask/app.py\", line 1822, in full_dispatch_request\n",
      "    rv = self.handle_user_exception(e)\n",
      "  File \"/home/martin/anaconda3/envs/roboadvisor/lib/python3.10/site-packages/flask/app.py\", line 1820, in full_dispatch_request\n",
      "    rv = self.dispatch_request()\n",
      "  File \"/home/martin/anaconda3/envs/roboadvisor/lib/python3.10/site-packages/flask/app.py\", line 1796, in dispatch_request\n",
      "    return self.ensure_sync(self.view_functions[rule.endpoint])(**view_args)\n",
      "  File \"/home/martin/anaconda3/envs/roboadvisor/lib/python3.10/site-packages/dash/dash.py\", line 1274, in dispatch\n",
      "    ctx.run(\n",
      "  File \"/home/martin/anaconda3/envs/roboadvisor/lib/python3.10/site-packages/dash/_callback.py\", line 440, in add_context\n",
      "    output_value = func(*func_args, **func_kwargs)  # %% callback invoked %%\n",
      "  File \"/tmp/ipykernel_2043108/4052910430.py\", line 35, in update_asset_allocationChart\n",
      "    Allocated, InvestmentReturn = get_asset_allocation(risk_tolerance,stock_ticker)\n",
      "  File \"/tmp/ipykernel_2043108/4051367590.py\", line 59, in get_asset_allocation\n",
      "    risk = np.sqrt(riskTolerance)\n",
      "TypeError: ufunc 'sqrt' not supported for the input types, and the inputs could not be safely coerced to any supported types according to the casting rule ''safe''\n"
     ]
    },
    {
     "name": "stderr",
     "output_type": "stream",
     "text": [
      "127.0.0.1 - - [02/Jan/2023 18:13:11] \"\u001b[35m\u001b[1mPOST /_dash-update-component HTTP/1.1\u001b[0m\" 500 -\n"
     ]
    },
    {
     "name": "stdout",
     "output_type": "stream",
     "text": [
      "0.1\n",
      "ASSET\n",
      "0.1\n",
      "\n",
      "\n",
      "Exception on /_dash-update-component [POST]\n",
      "Traceback (most recent call last):\n",
      "  File \"/home/martin/anaconda3/envs/roboadvisor/lib/python3.10/site-packages/flask/app.py\", line 2525, in wsgi_app\n",
      "    response = self.full_dispatch_request()\n",
      "  File \"/home/martin/anaconda3/envs/roboadvisor/lib/python3.10/site-packages/flask/app.py\", line 1822, in full_dispatch_request\n",
      "    rv = self.handle_user_exception(e)\n",
      "  File \"/home/martin/anaconda3/envs/roboadvisor/lib/python3.10/site-packages/flask/app.py\", line 1820, in full_dispatch_request\n",
      "    rv = self.dispatch_request()\n",
      "  File \"/home/martin/anaconda3/envs/roboadvisor/lib/python3.10/site-packages/flask/app.py\", line 1796, in dispatch_request\n",
      "    return self.ensure_sync(self.view_functions[rule.endpoint])(**view_args)\n",
      "  File \"/home/martin/anaconda3/envs/roboadvisor/lib/python3.10/site-packages/dash/dash.py\", line 1274, in dispatch\n",
      "    ctx.run(\n",
      "  File \"/home/martin/anaconda3/envs/roboadvisor/lib/python3.10/site-packages/dash/_callback.py\", line 440, in add_context\n",
      "    output_value = func(*func_args, **func_kwargs)  # %% callback invoked %%\n",
      "  File \"/tmp/ipykernel_2043108/4052910430.py\", line 35, in update_asset_allocationChart\n",
      "    Allocated, InvestmentReturn = get_asset_allocation(risk_tolerance,stock_ticker)\n",
      "  File \"/tmp/ipykernel_2043108/4051367590.py\", line 59, in get_asset_allocation\n",
      "    risk = np.sqrt(riskTolerance)\n",
      "TypeError: ufunc 'sqrt' not supported for the input types, and the inputs could not be safely coerced to any supported types according to the casting rule ''safe''\n"
     ]
    },
    {
     "name": "stderr",
     "output_type": "stream",
     "text": [
      "127.0.0.1 - - [02/Jan/2023 18:13:11] \"\u001b[35m\u001b[1mPOST /_dash-update-component HTTP/1.1\u001b[0m\" 500 -\n"
     ]
    },
    {
     "name": "stdout",
     "output_type": "stream",
     "text": [
      "0.\n",
      "ASSET\n",
      "0.\n",
      "\n",
      "\n",
      "Exception on /_dash-update-component [POST]\n",
      "Traceback (most recent call last):\n",
      "  File \"/home/martin/anaconda3/envs/roboadvisor/lib/python3.10/site-packages/flask/app.py\", line 2525, in wsgi_app\n",
      "    response = self.full_dispatch_request()\n",
      "  File \"/home/martin/anaconda3/envs/roboadvisor/lib/python3.10/site-packages/flask/app.py\", line 1822, in full_dispatch_request\n",
      "    rv = self.handle_user_exception(e)\n",
      "  File \"/home/martin/anaconda3/envs/roboadvisor/lib/python3.10/site-packages/flask/app.py\", line 1820, in full_dispatch_request\n",
      "    rv = self.dispatch_request()\n",
      "  File \"/home/martin/anaconda3/envs/roboadvisor/lib/python3.10/site-packages/flask/app.py\", line 1796, in dispatch_request\n",
      "    return self.ensure_sync(self.view_functions[rule.endpoint])(**view_args)\n",
      "  File \"/home/martin/anaconda3/envs/roboadvisor/lib/python3.10/site-packages/dash/dash.py\", line 1274, in dispatch\n",
      "    ctx.run(\n",
      "  File \"/home/martin/anaconda3/envs/roboadvisor/lib/python3.10/site-packages/dash/_callback.py\", line 440, in add_context\n",
      "    output_value = func(*func_args, **func_kwargs)  # %% callback invoked %%\n",
      "  File \"/tmp/ipykernel_2043108/4052910430.py\", line 35, in update_asset_allocationChart\n",
      "    Allocated, InvestmentReturn = get_asset_allocation(risk_tolerance,stock_ticker)\n",
      "  File \"/tmp/ipykernel_2043108/4051367590.py\", line 59, in get_asset_allocation\n",
      "    risk = np.sqrt(riskTolerance)\n",
      "TypeError: ufunc 'sqrt' not supported for the input types, and the inputs could not be safely coerced to any supported types according to the casting rule ''safe''\n"
     ]
    },
    {
     "name": "stderr",
     "output_type": "stream",
     "text": [
      "127.0.0.1 - - [02/Jan/2023 18:13:11] \"\u001b[35m\u001b[1mPOST /_dash-update-component HTTP/1.1\u001b[0m\" 500 -\n"
     ]
    },
    {
     "name": "stdout",
     "output_type": "stream",
     "text": [
      "0\n",
      "ASSET\n",
      "0\n",
      "\n",
      "\n",
      "Exception on /_dash-update-component [POST]\n",
      "Traceback (most recent call last):\n",
      "  File \"/home/martin/anaconda3/envs/roboadvisor/lib/python3.10/site-packages/flask/app.py\", line 2525, in wsgi_app\n",
      "    response = self.full_dispatch_request()\n",
      "  File \"/home/martin/anaconda3/envs/roboadvisor/lib/python3.10/site-packages/flask/app.py\", line 1822, in full_dispatch_request\n",
      "    rv = self.handle_user_exception(e)\n",
      "  File \"/home/martin/anaconda3/envs/roboadvisor/lib/python3.10/site-packages/flask/app.py\", line 1820, in full_dispatch_request\n",
      "    rv = self.dispatch_request()\n",
      "  File \"/home/martin/anaconda3/envs/roboadvisor/lib/python3.10/site-packages/flask/app.py\", line 1796, in dispatch_request\n",
      "    return self.ensure_sync(self.view_functions[rule.endpoint])(**view_args)\n",
      "  File \"/home/martin/anaconda3/envs/roboadvisor/lib/python3.10/site-packages/dash/dash.py\", line 1274, in dispatch\n",
      "    ctx.run(\n",
      "  File \"/home/martin/anaconda3/envs/roboadvisor/lib/python3.10/site-packages/dash/_callback.py\", line 440, in add_context\n",
      "    output_value = func(*func_args, **func_kwargs)  # %% callback invoked %%\n",
      "  File \"/tmp/ipykernel_2043108/4052910430.py\", line 35, in update_asset_allocationChart\n",
      "    Allocated, InvestmentReturn = get_asset_allocation(risk_tolerance,stock_ticker)\n",
      "  File \"/tmp/ipykernel_2043108/4051367590.py\", line 59, in get_asset_allocation\n",
      "    risk = np.sqrt(riskTolerance)\n",
      "TypeError: ufunc 'sqrt' not supported for the input types, and the inputs could not be safely coerced to any supported types according to the casting rule ''safe''\n"
     ]
    },
    {
     "name": "stderr",
     "output_type": "stream",
     "text": [
      "127.0.0.1 - - [02/Jan/2023 18:13:12] \"\u001b[35m\u001b[1mPOST /_dash-update-component HTTP/1.1\u001b[0m\" 500 -\n"
     ]
    },
    {
     "name": "stdout",
     "output_type": "stream",
     "text": [
      "\n",
      "ASSET\n",
      "\n",
      "\n",
      "\n",
      "Exception on /_dash-update-component [POST]\n",
      "Traceback (most recent call last):\n",
      "  File \"/home/martin/anaconda3/envs/roboadvisor/lib/python3.10/site-packages/flask/app.py\", line 2525, in wsgi_app\n",
      "    response = self.full_dispatch_request()\n",
      "  File \"/home/martin/anaconda3/envs/roboadvisor/lib/python3.10/site-packages/flask/app.py\", line 1822, in full_dispatch_request\n",
      "    rv = self.handle_user_exception(e)\n",
      "  File \"/home/martin/anaconda3/envs/roboadvisor/lib/python3.10/site-packages/flask/app.py\", line 1820, in full_dispatch_request\n",
      "    rv = self.dispatch_request()\n",
      "  File \"/home/martin/anaconda3/envs/roboadvisor/lib/python3.10/site-packages/flask/app.py\", line 1796, in dispatch_request\n",
      "    return self.ensure_sync(self.view_functions[rule.endpoint])(**view_args)\n",
      "  File \"/home/martin/anaconda3/envs/roboadvisor/lib/python3.10/site-packages/dash/dash.py\", line 1274, in dispatch\n",
      "    ctx.run(\n",
      "  File \"/home/martin/anaconda3/envs/roboadvisor/lib/python3.10/site-packages/dash/_callback.py\", line 440, in add_context\n",
      "    output_value = func(*func_args, **func_kwargs)  # %% callback invoked %%\n",
      "  File \"/tmp/ipykernel_2043108/4052910430.py\", line 35, in update_asset_allocationChart\n",
      "    Allocated, InvestmentReturn = get_asset_allocation(risk_tolerance,stock_ticker)\n",
      "  File \"/tmp/ipykernel_2043108/4051367590.py\", line 59, in get_asset_allocation\n",
      "    risk = np.sqrt(riskTolerance)\n",
      "TypeError: ufunc 'sqrt' not supported for the input types, and the inputs could not be safely coerced to any supported types according to the casting rule ''safe''\n"
     ]
    },
    {
     "name": "stderr",
     "output_type": "stream",
     "text": [
      "127.0.0.1 - - [02/Jan/2023 18:13:12] \"\u001b[35m\u001b[1mPOST /_dash-update-component HTTP/1.1\u001b[0m\" 500 -\n"
     ]
    },
    {
     "name": "stdout",
     "output_type": "stream",
     "text": [
      "1\n",
      "ASSET\n",
      "1\n",
      "\n",
      "\n",
      "Exception on /_dash-update-component [POST]\n",
      "Traceback (most recent call last):\n",
      "  File \"/home/martin/anaconda3/envs/roboadvisor/lib/python3.10/site-packages/flask/app.py\", line 2525, in wsgi_app\n",
      "    response = self.full_dispatch_request()\n",
      "  File \"/home/martin/anaconda3/envs/roboadvisor/lib/python3.10/site-packages/flask/app.py\", line 1822, in full_dispatch_request\n",
      "    rv = self.handle_user_exception(e)\n",
      "  File \"/home/martin/anaconda3/envs/roboadvisor/lib/python3.10/site-packages/flask/app.py\", line 1820, in full_dispatch_request\n",
      "    rv = self.dispatch_request()\n",
      "  File \"/home/martin/anaconda3/envs/roboadvisor/lib/python3.10/site-packages/flask/app.py\", line 1796, in dispatch_request\n",
      "    return self.ensure_sync(self.view_functions[rule.endpoint])(**view_args)\n",
      "  File \"/home/martin/anaconda3/envs/roboadvisor/lib/python3.10/site-packages/dash/dash.py\", line 1274, in dispatch\n",
      "    ctx.run(\n",
      "  File \"/home/martin/anaconda3/envs/roboadvisor/lib/python3.10/site-packages/dash/_callback.py\", line 440, in add_context\n",
      "    output_value = func(*func_args, **func_kwargs)  # %% callback invoked %%\n",
      "  File \"/tmp/ipykernel_2043108/4052910430.py\", line 35, in update_asset_allocationChart\n",
      "    Allocated, InvestmentReturn = get_asset_allocation(risk_tolerance,stock_ticker)\n",
      "  File \"/tmp/ipykernel_2043108/4051367590.py\", line 59, in get_asset_allocation\n",
      "    risk = np.sqrt(riskTolerance)\n",
      "TypeError: ufunc 'sqrt' not supported for the input types, and the inputs could not be safely coerced to any supported types according to the casting rule ''safe''\n"
     ]
    },
    {
     "name": "stderr",
     "output_type": "stream",
     "text": [
      "127.0.0.1 - - [02/Jan/2023 18:13:12] \"\u001b[35m\u001b[1mPOST /_dash-update-component HTTP/1.1\u001b[0m\" 500 -\n"
     ]
    },
    {
     "name": "stdout",
     "output_type": "stream",
     "text": [
      "\n",
      "ASSET\n",
      "\n",
      "\n",
      "\n",
      "Exception on /_dash-update-component [POST]\n",
      "Traceback (most recent call last):\n",
      "  File \"/home/martin/anaconda3/envs/roboadvisor/lib/python3.10/site-packages/flask/app.py\", line 2525, in wsgi_app\n",
      "    response = self.full_dispatch_request()\n",
      "  File \"/home/martin/anaconda3/envs/roboadvisor/lib/python3.10/site-packages/flask/app.py\", line 1822, in full_dispatch_request\n",
      "    rv = self.handle_user_exception(e)\n",
      "  File \"/home/martin/anaconda3/envs/roboadvisor/lib/python3.10/site-packages/flask/app.py\", line 1820, in full_dispatch_request\n",
      "    rv = self.dispatch_request()\n",
      "  File \"/home/martin/anaconda3/envs/roboadvisor/lib/python3.10/site-packages/flask/app.py\", line 1796, in dispatch_request\n",
      "    return self.ensure_sync(self.view_functions[rule.endpoint])(**view_args)\n",
      "  File \"/home/martin/anaconda3/envs/roboadvisor/lib/python3.10/site-packages/dash/dash.py\", line 1274, in dispatch\n",
      "    ctx.run(\n",
      "  File \"/home/martin/anaconda3/envs/roboadvisor/lib/python3.10/site-packages/dash/_callback.py\", line 440, in add_context\n",
      "    output_value = func(*func_args, **func_kwargs)  # %% callback invoked %%\n",
      "  File \"/tmp/ipykernel_2043108/4052910430.py\", line 35, in update_asset_allocationChart\n",
      "    Allocated, InvestmentReturn = get_asset_allocation(risk_tolerance,stock_ticker)\n",
      "  File \"/tmp/ipykernel_2043108/4051367590.py\", line 59, in get_asset_allocation\n",
      "    risk = np.sqrt(riskTolerance)\n",
      "TypeError: ufunc 'sqrt' not supported for the input types, and the inputs could not be safely coerced to any supported types according to the casting rule ''safe''\n"
     ]
    },
    {
     "name": "stderr",
     "output_type": "stream",
     "text": [
      "127.0.0.1 - - [02/Jan/2023 18:13:13] \"\u001b[35m\u001b[1mPOST /_dash-update-component HTTP/1.1\u001b[0m\" 500 -\n"
     ]
    },
    {
     "name": "stdout",
     "output_type": "stream",
     "text": [
      "1\n",
      "ASSET\n",
      "1\n",
      "\n",
      "\n",
      "Exception on /_dash-update-component [POST]\n",
      "Traceback (most recent call last):\n",
      "  File \"/home/martin/anaconda3/envs/roboadvisor/lib/python3.10/site-packages/flask/app.py\", line 2525, in wsgi_app\n",
      "    response = self.full_dispatch_request()\n",
      "  File \"/home/martin/anaconda3/envs/roboadvisor/lib/python3.10/site-packages/flask/app.py\", line 1822, in full_dispatch_request\n",
      "    rv = self.handle_user_exception(e)\n",
      "  File \"/home/martin/anaconda3/envs/roboadvisor/lib/python3.10/site-packages/flask/app.py\", line 1820, in full_dispatch_request\n",
      "    rv = self.dispatch_request()\n",
      "  File \"/home/martin/anaconda3/envs/roboadvisor/lib/python3.10/site-packages/flask/app.py\", line 1796, in dispatch_request\n",
      "    return self.ensure_sync(self.view_functions[rule.endpoint])(**view_args)\n",
      "  File \"/home/martin/anaconda3/envs/roboadvisor/lib/python3.10/site-packages/dash/dash.py\", line 1274, in dispatch\n",
      "    ctx.run(\n",
      "  File \"/home/martin/anaconda3/envs/roboadvisor/lib/python3.10/site-packages/dash/_callback.py\", line 440, in add_context\n",
      "    output_value = func(*func_args, **func_kwargs)  # %% callback invoked %%\n",
      "  File \"/tmp/ipykernel_2043108/4052910430.py\", line 35, in update_asset_allocationChart\n",
      "    Allocated, InvestmentReturn = get_asset_allocation(risk_tolerance,stock_ticker)\n",
      "  File \"/tmp/ipykernel_2043108/4051367590.py\", line 59, in get_asset_allocation\n",
      "    risk = np.sqrt(riskTolerance)\n",
      "TypeError: ufunc 'sqrt' not supported for the input types, and the inputs could not be safely coerced to any supported types according to the casting rule ''safe''\n"
     ]
    },
    {
     "name": "stderr",
     "output_type": "stream",
     "text": [
      "127.0.0.1 - - [02/Jan/2023 18:13:13] \"\u001b[35m\u001b[1mPOST /_dash-update-component HTTP/1.1\u001b[0m\" 500 -\n"
     ]
    },
    {
     "name": "stdout",
     "output_type": "stream",
     "text": [
      "10\n",
      "ASSET\n",
      "10\n",
      "\n",
      "\n",
      "Exception on /_dash-update-component [POST]\n",
      "Traceback (most recent call last):\n",
      "  File \"/home/martin/anaconda3/envs/roboadvisor/lib/python3.10/site-packages/flask/app.py\", line 2525, in wsgi_app\n",
      "    response = self.full_dispatch_request()\n",
      "  File \"/home/martin/anaconda3/envs/roboadvisor/lib/python3.10/site-packages/flask/app.py\", line 1822, in full_dispatch_request\n",
      "    rv = self.handle_user_exception(e)\n",
      "  File \"/home/martin/anaconda3/envs/roboadvisor/lib/python3.10/site-packages/flask/app.py\", line 1820, in full_dispatch_request\n",
      "    rv = self.dispatch_request()\n",
      "  File \"/home/martin/anaconda3/envs/roboadvisor/lib/python3.10/site-packages/flask/app.py\", line 1796, in dispatch_request\n",
      "    return self.ensure_sync(self.view_functions[rule.endpoint])(**view_args)\n",
      "  File \"/home/martin/anaconda3/envs/roboadvisor/lib/python3.10/site-packages/dash/dash.py\", line 1274, in dispatch\n",
      "    ctx.run(\n",
      "  File \"/home/martin/anaconda3/envs/roboadvisor/lib/python3.10/site-packages/dash/_callback.py\", line 440, in add_context\n",
      "    output_value = func(*func_args, **func_kwargs)  # %% callback invoked %%\n",
      "  File \"/tmp/ipykernel_2043108/4052910430.py\", line 35, in update_asset_allocationChart\n",
      "    Allocated, InvestmentReturn = get_asset_allocation(risk_tolerance,stock_ticker)\n",
      "  File \"/tmp/ipykernel_2043108/4051367590.py\", line 59, in get_asset_allocation\n",
      "    risk = np.sqrt(riskTolerance)\n",
      "TypeError: ufunc 'sqrt' not supported for the input types, and the inputs could not be safely coerced to any supported types according to the casting rule ''safe''\n"
     ]
    },
    {
     "name": "stderr",
     "output_type": "stream",
     "text": [
      "127.0.0.1 - - [02/Jan/2023 18:13:13] \"\u001b[35m\u001b[1mPOST /_dash-update-component HTTP/1.1\u001b[0m\" 500 -\n"
     ]
    },
    {
     "name": "stdout",
     "output_type": "stream",
     "text": [
      "10\n",
      "ASSET\n",
      "10\n",
      "\n",
      "\n",
      "Exception on /_dash-update-component [POST]\n",
      "Traceback (most recent call last):\n",
      "  File \"/home/martin/anaconda3/envs/roboadvisor/lib/python3.10/site-packages/flask/app.py\", line 2525, in wsgi_app\n",
      "    response = self.full_dispatch_request()\n",
      "  File \"/home/martin/anaconda3/envs/roboadvisor/lib/python3.10/site-packages/flask/app.py\", line 1822, in full_dispatch_request\n",
      "    rv = self.handle_user_exception(e)\n",
      "  File \"/home/martin/anaconda3/envs/roboadvisor/lib/python3.10/site-packages/flask/app.py\", line 1820, in full_dispatch_request\n",
      "    rv = self.dispatch_request()\n",
      "  File \"/home/martin/anaconda3/envs/roboadvisor/lib/python3.10/site-packages/flask/app.py\", line 1796, in dispatch_request\n",
      "    return self.ensure_sync(self.view_functions[rule.endpoint])(**view_args)\n",
      "  File \"/home/martin/anaconda3/envs/roboadvisor/lib/python3.10/site-packages/dash/dash.py\", line 1274, in dispatch\n",
      "    ctx.run(\n",
      "  File \"/home/martin/anaconda3/envs/roboadvisor/lib/python3.10/site-packages/dash/_callback.py\", line 440, in add_context\n",
      "    output_value = func(*func_args, **func_kwargs)  # %% callback invoked %%\n",
      "  File \"/tmp/ipykernel_2043108/4052910430.py\", line 35, in update_asset_allocationChart\n",
      "    Allocated, InvestmentReturn = get_asset_allocation(risk_tolerance,stock_ticker)\n",
      "  File \"/tmp/ipykernel_2043108/4051367590.py\", line 59, in get_asset_allocation\n",
      "    risk = np.sqrt(riskTolerance)\n",
      "TypeError: ufunc 'sqrt' not supported for the input types, and the inputs could not be safely coerced to any supported types according to the casting rule ''safe''\n"
     ]
    },
    {
     "name": "stderr",
     "output_type": "stream",
     "text": [
      "127.0.0.1 - - [02/Jan/2023 18:13:15] \"\u001b[35m\u001b[1mPOST /_dash-update-component HTTP/1.1\u001b[0m\" 500 -\n"
     ]
    }
   ],
   "source": [
    "#Callback for the graph\n",
    "#This function takes all the inputs and computes the cluster and the risk tolerance\n",
    "\n",
    "\n",
    "@app.callback(\n",
    "     [Output('risk-tolerance-text', 'value')],\n",
    "    [Input('investor_char_button', 'n_clicks'),\n",
    "    Input('Edad', 'value'),Input('edu', 'value'),\n",
    "    Input('Est_civil', 'value'), Input('Ocup', 'value'),\n",
    "    Input('estrat', 'value'),Input('tr_num', 'value'),\n",
    "    Input('act_toth', 'value'),Input('rci_dt', 'value')])\n",
    "#get the x and y axis details \n",
    "\n",
    "def update_risk_tolerance(n_clicks,Age,Nwcat,Inccl,Risk,Edu,Married,Kids,Occ):\n",
    "      \n",
    "    #ipdb.set_trace()\n",
    "    \n",
    "    RiskTolerance = 1\n",
    "    if n_clicks != None:\n",
    "        X_input = [[edad,edu,est_civil,ocup,estrat,tr_num, act_toth,rci_dt]]\n",
    "        RiskTolerance= predict_riskTolerance(X_input)\n",
    "    #print(RiskAversion)\n",
    "    #Using linear regression to get the risk tolerance within the cluster.    \n",
    "    return list([round(float(RiskTolerance*100),2)])\n",
    "\n",
    "@app.callback([Output('Asset-Allocation', 'figure'),\n",
    "              Output('Performance', 'figure')],\n",
    "            [Input('submit-asset_alloc_button', 'n_clicks'),\n",
    "            Input('risk-tolerance-text', 'value')], \n",
    "            [State('ticker_symbol', 'value')\n",
    "            ])\n",
    "def update_asset_allocationChart(n_clicks, risk_tolerance, stock_ticker):\n",
    "    print(risk_tolerance)\n",
    "    \n",
    "    Allocated, InvestmentReturn = get_asset_allocation(risk_tolerance,stock_ticker)  \n",
    "    \n",
    "    return [{'data' : [go.Bar(\n",
    "                        x=list(weights.keys()),\n",
    "                        y=list(weights.values()),\n",
    "                        marker=dict(color='C0'),\n",
    "                    ),\n",
    "                    ],\n",
    "            'layout': {'title':\" Asset allocation - Mean-Variance Allocation\"}\n",
    "\n",
    "       },\n",
    "            {'data' : [go.Scatter(\n",
    "                        x=InvestmentReturn.index,\n",
    "                        y=InvestmentReturn.iloc[:,0],\n",
    "                        name = 'OEE (%)',\n",
    "                        marker=dict(color='red'),\n",
    "                    ),\n",
    "                    ],\n",
    "            'layout': {'title':\"Portfolio value of $100 investment\"}\n",
    "\n",
    "       }]\n",
    "\n",
    "if __name__ == '__main__':\n",
    "    app.run_server()"
   ]
  },
  {
   "cell_type": "code",
   "execution_count": null,
   "metadata": {},
   "outputs": [],
   "source": [
    "help(app.run_server)"
   ]
  },
  {
   "cell_type": "code",
   "execution_count": null,
   "metadata": {},
   "outputs": [],
   "source": []
  },
  {
   "cell_type": "markdown",
   "metadata": {},
   "source": [
    "## Sample Dashboard\n",
    "\n",
    "<img src=\"RoboDashboard.png\" width=\"1400\" />"
   ]
  }
 ],
 "metadata": {
  "kernelspec": {
   "display_name": "Python 3",
   "language": "python",
   "name": "python3"
  },
  "language_info": {
   "codemirror_mode": {
    "name": "ipython",
    "version": 3
   },
   "file_extension": ".py",
   "mimetype": "text/x-python",
   "name": "python",
   "nbconvert_exporter": "python",
   "pygments_lexer": "ipython3",
   "version": "3.8.8"
  }
 },
 "nbformat": 4,
 "nbformat_minor": 4
}
