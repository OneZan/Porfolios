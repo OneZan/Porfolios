{
 "cells": [
  {
   "attachments": {},
   "cell_type": "markdown",
   "metadata": {},
   "source": [
    "# Portfolio selection"
   ]
  },
  {
   "cell_type": "code",
   "execution_count": 2,
   "metadata": {},
   "outputs": [],
   "source": [
    "#### Imports ####\n",
    "#################\n",
    "\n",
    "### basics\n",
    "import numpy as np\n",
    "import scipy\n",
    "import matplotlib.pyplot as plt\n",
    "import seaborn as sns\n",
    "from sklearn.preprocessing import StandardScaler\n",
    "import copy\n",
    "\n",
    "\n",
    "### yahoo finance\n",
    "import yfinance as yf\n",
    "\n",
    "### pandas\n",
    "import pandas as pd\n",
    "from pandas import read_csv, set_option\n",
    "from pandas.plotting import scatter_matrix\n",
    "\n",
    "\n",
    "### data optimization library\n",
    "from pypfopt.efficient_frontier import EfficientFrontier\n",
    "from pypfopt.expected_returns import mean_historical_return\n",
    "from pypfopt.risk_models import CovarianceShrinkage,risk_matrix\n",
    "from pypfopt import plotting"
   ]
  },
  {
   "cell_type": "code",
   "execution_count": 70,
   "metadata": {},
   "outputs": [],
   "source": [
    "#### Functions ####\n",
    "###################\n",
    "def data_from_names(stocks_names):\n",
    "    '''\n",
    "    Descarga y devuelve el conjunto de stocks ingresado con un periodo diario de 1d de los últimos 10 años.\n",
    "\n",
    "    Argumentos:\n",
    "    stock_names: (list) Nombres de los stocks en formato simbolo cómo están identificados en yahoo finance.\n",
    "    '''\n",
    "    dataset = pd.DataFrame()\n",
    "    for s in stocks_names:\n",
    "        value = yf.Ticker(s).history(period = \"10y\").Close\n",
    "        dat = pd.DataFrame({\"{}\".format(s): value})\n",
    "        dataset = pd.concat([dataset,dat],axis = 1)\n",
    "    return dataset\n",
    "\n",
    "\n",
    "def split_train_test(dataset,first,end):\n",
    "    '''\n",
    "    Divide el dataset en train y test. El train está destinado para hacer el modelo de portfolios y el test para hacer el backtest \n",
    "    \n",
    "    Argumentos:\n",
    "    dataset: (Dataframe) index:(Timestamp), cols:(float) stock price values\n",
    "    first: ((list) shape=(3)) [(int) year,(int) month,(int) day]\n",
    "    end:   ((list) shape=(3)) [(int) year,(int) month,(int) day]\n",
    "    '''\n",
    "\n",
    "    first = [str(f) for f in first]\n",
    "    end = [str(e) for e in end]\n",
    "\n",
    "    y_1,m_1,d_1 = first\n",
    "    y_2,m_2,d_2 = end\n",
    "    print( y_1,m_1,d_1)\n",
    "\n",
    "    if len(m_1) == 1:\n",
    "        m_1 = \"0\"+m_1\n",
    "    if len(m_2) == 1:\n",
    "        m_2 = \"0\"+m_2\n",
    "    if len(d_1) == 1:\n",
    "        d_1 = \"0\"+d_1\n",
    "    if len(d_2) == 1:\n",
    "        d_2 = \"0\"+d_2\n",
    "\n",
    "\n",
    "    dates_times = dataset.index\n",
    "    dates = [fulldate.strftime('%Y-%m-%d') for fulldate in dates_times]\n",
    "\n",
    "    \n",
    "    try:\n",
    "        idx_1 =  dates.index(f\"{y_1}-{m_1}-{d_1}\")\n",
    "    except:\n",
    "        print(\"No existe esa fecha para el BEGIN, probar otra\")\n",
    "\n",
    "    try:\n",
    "        idx_2 =  dates.index(f\"{y_2}-{m_2}-{d_2}\")\n",
    "    except:\n",
    "        print(\"No existe esa fecha para el END, probar otra\")\n",
    "    \n",
    "    return dataset[idx_1:idx_2],dataset[idx_2:]\n",
    "\n",
    "\n",
    "def data_cleaner(data):\n",
    "    '''\n",
    "    Divide el dataset en train y test. El train está destinado para hacer el modelo de portfolios y el test para hacer el backtest \n",
    "    \n",
    "    Argumentos:\n",
    "    dataset: (Dataframe) index:(Timestamp), cols:(float) stock price values\n",
    "    first: ((list) shape=(3)) [(int) year,(int) month,(int) day]\n",
    "    end:   ((list) shape=(3)) [(int) year,(int) month,(int) day]\n",
    "    '''\n",
    "    #Checking for any null values and removing the null values'''\n",
    "    if data.isnull().values.any():\n",
    "        print(\"Hay NULLS en el Dataframe\")\n",
    "        return\n",
    "\n",
    "    else:\n",
    "        print(\"Descarto las columnas que les faltan más del 30% de los datos\")\n",
    "        missing_fractions = data.isnull().mean().sort_values(ascending=False)\n",
    "        missing_fractions.head(10)\n",
    "        drop_list = sorted(list(missing_fractions[missing_fractions > 0.3].index))\n",
    "        data.drop(labels=drop_list, axis=1, inplace=True)\n",
    "\n",
    "        return\n",
    "\n",
    "\n",
    "\n",
    "\n",
    "\n",
    "    "
   ]
  },
  {
   "cell_type": "code",
   "execution_count": 64,
   "metadata": {},
   "outputs": [],
   "source": [
    "data = data_from_names([\"ITOT\",\"IVV\",\"QQQ\",\"VTI\",\"IJR\",\"VPL\",\"VWO\",\"SUSA\",\"HYEM\",\"MGV\"])"
   ]
  },
  {
   "cell_type": "code",
   "execution_count": 65,
   "metadata": {},
   "outputs": [
    {
     "name": "stdout",
     "output_type": "stream",
     "text": [
      "2014 10 3\n",
      "2014 10 03\n"
     ]
    }
   ],
   "source": [
    "train,test = split_train_test(data,[2014,10,3],[2014,10,13])"
   ]
  },
  {
   "cell_type": "code",
   "execution_count": 26,
   "metadata": {},
   "outputs": [],
   "source": [
    "a = test.index"
   ]
  },
  {
   "cell_type": "code",
   "execution_count": 34,
   "metadata": {},
   "outputs": [],
   "source": [
    "b = [fulldate.strftime('%Y-%m-%d') for fulldate in a]"
   ]
  },
  {
   "cell_type": "code",
   "execution_count": 41,
   "metadata": {},
   "outputs": [
    {
     "ename": "IndexError",
     "evalue": "index 0 is out of bounds for axis 0 with size 0",
     "output_type": "error",
     "traceback": [
      "\u001b[0;31m---------------------------------------------------------------------------\u001b[0m",
      "\u001b[0;31mIndexError\u001b[0m                                Traceback (most recent call last)",
      "Cell \u001b[0;32mIn[41], line 1\u001b[0m\n\u001b[0;32m----> 1\u001b[0m b[np\u001b[39m.\u001b[39;49mwhere(b \u001b[39m==\u001b[39;49m \u001b[39m'\u001b[39;49m\u001b[39m2013-03-11\u001b[39;49m\u001b[39m'\u001b[39;49m)[\u001b[39m0\u001b[39;49m][\u001b[39m0\u001b[39;49m]]\n",
      "\u001b[0;31mIndexError\u001b[0m: index 0 is out of bounds for axis 0 with size 0"
     ]
    }
   ],
   "source": [
    "b[np.where(b == '2013-03-11')[0][0]]"
   ]
  },
  {
   "cell_type": "code",
   "execution_count": 48,
   "metadata": {},
   "outputs": [
    {
     "data": {
      "text/plain": [
       "(array([], dtype=int64),)"
      ]
     },
     "execution_count": 48,
     "metadata": {},
     "output_type": "execute_result"
    }
   ],
   "source": [
    "np.where(b == '2013-03-11')"
   ]
  },
  {
   "cell_type": "code",
   "execution_count": 52,
   "metadata": {},
   "outputs": [
    {
     "ename": "ValueError",
     "evalue": "'2013-03-40' is not in list",
     "output_type": "error",
     "traceback": [
      "\u001b[0;31m---------------------------------------------------------------------------\u001b[0m",
      "\u001b[0;31mValueError\u001b[0m                                Traceback (most recent call last)",
      "Cell \u001b[0;32mIn[52], line 1\u001b[0m\n\u001b[0;32m----> 1\u001b[0m b\u001b[39m.\u001b[39;49mindex(\u001b[39m'\u001b[39;49m\u001b[39m2013-03-40\u001b[39;49m\u001b[39m'\u001b[39;49m)\n",
      "\u001b[0;31mValueError\u001b[0m: '2013-03-40' is not in list"
     ]
    }
   ],
   "source": [
    "b.index('2013-03-40')"
   ]
  },
  {
   "cell_type": "code",
   "execution_count": 71,
   "metadata": {},
   "outputs": [
    {
     "name": "stdout",
     "output_type": "stream",
     "text": [
      "Descarto las columnas que les faltan más del 30% de los datos\n"
     ]
    },
    {
     "ename": "NameError",
     "evalue": "name 'dataset' is not defined",
     "output_type": "error",
     "traceback": [
      "\u001b[0;31m---------------------------------------------------------------------------\u001b[0m",
      "\u001b[0;31mNameError\u001b[0m                                 Traceback (most recent call last)",
      "Cell \u001b[0;32mIn[71], line 2\u001b[0m\n\u001b[1;32m      1\u001b[0m data\u001b[39m.\u001b[39mshape\n\u001b[0;32m----> 2\u001b[0m data_cleaner(data)\n\u001b[1;32m      3\u001b[0m data\u001b[39m.\u001b[39mshape\n",
      "Cell \u001b[0;32mIn[70], line 78\u001b[0m, in \u001b[0;36mdata_cleaner\u001b[0;34m(data)\u001b[0m\n\u001b[1;32m     76\u001b[0m \u001b[39melse\u001b[39;00m:\n\u001b[1;32m     77\u001b[0m     \u001b[39mprint\u001b[39m(\u001b[39m\"\u001b[39m\u001b[39mDescarto las columnas que les faltan más del 30\u001b[39m\u001b[39m% d\u001b[39;00m\u001b[39me los datos\u001b[39m\u001b[39m\"\u001b[39m)\n\u001b[0;32m---> 78\u001b[0m     missing_fractions \u001b[39m=\u001b[39m dataset\u001b[39m.\u001b[39misnull()\u001b[39m.\u001b[39mmean()\u001b[39m.\u001b[39msort_values(ascending\u001b[39m=\u001b[39m\u001b[39mFalse\u001b[39;00m)\n\u001b[1;32m     79\u001b[0m     missing_fractions\u001b[39m.\u001b[39mhead(\u001b[39m10\u001b[39m)\n\u001b[1;32m     80\u001b[0m     drop_list \u001b[39m=\u001b[39m \u001b[39msorted\u001b[39m(\u001b[39mlist\u001b[39m(missing_fractions[missing_fractions \u001b[39m>\u001b[39m \u001b[39m0.3\u001b[39m]\u001b[39m.\u001b[39mindex))\n",
      "\u001b[0;31mNameError\u001b[0m: name 'dataset' is not defined"
     ]
    }
   ],
   "source": [
    "data.shape\n",
    "data_cleaner(data)\n",
    "data.shape\n"
   ]
  },
  {
   "cell_type": "code",
   "execution_count": 69,
   "metadata": {},
   "outputs": [
    {
     "name": "stdout",
     "output_type": "stream",
     "text": [
      "Null Values = False\n"
     ]
    }
   ],
   "source": [
    "print('Null Values =',data.isnull().values.any())"
   ]
  },
  {
   "cell_type": "code",
   "execution_count": null,
   "metadata": {},
   "outputs": [],
   "source": []
  }
 ],
 "metadata": {
  "kernelspec": {
   "display_name": "roboadvisor",
   "language": "python",
   "name": "python3"
  },
  "language_info": {
   "codemirror_mode": {
    "name": "ipython",
    "version": 3
   },
   "file_extension": ".py",
   "mimetype": "text/x-python",
   "name": "python",
   "nbconvert_exporter": "python",
   "pygments_lexer": "ipython3",
   "version": "3.10.8"
  },
  "orig_nbformat": 4
 },
 "nbformat": 4,
 "nbformat_minor": 2
}
