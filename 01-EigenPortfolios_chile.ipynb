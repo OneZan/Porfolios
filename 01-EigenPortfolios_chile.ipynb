{
 "cells": [
  {
   "cell_type": "markdown",
   "metadata": {
    "_cell_guid": "83708667-4fdc-1563-7b3a-06b6575d2865"
   },
   "source": [
    "\n",
    "\n",
    "# Portfolio Management-Eigen Portfolio\n",
    "\n",
    "In this case study we use dimensionality reduction techniques for portfolio management and allocation.\n"
   ]
  },
  {
   "cell_type": "markdown",
   "metadata": {},
   "source": [
    "## Content"
   ]
  },
  {
   "cell_type": "markdown",
   "metadata": {},
   "source": [
    "* [1. Problem Definition](#0)\n",
    "* [2. Getting Started - Load Libraries and Dataset](#1)\n",
    "    * [2.1. Load Libraries](#1.1)    \n",
    "    * [2.2. Load Dataset](#1.2)\n",
    "* [3. Exploratory Data Analysis](#2)\n",
    "    * [3.1 Descriptive Statistics](#2.1)    \n",
    "    * [3.2. Data Visualisation](#2.2)\n",
    "* [4. Data Preparation](#3)\n",
    "    * [4.1 Data Cleaning](#3.1)\n",
    "    * [4.3.Data Transformation](#3.2)  \n",
    "* [5.Evaluate Algorithms and Models](#4)        \n",
    "    * [5.1. Train Test Split](#4.1)\n",
    "    * [5.2. Model Evaluation- Applying Principle Component Analysis](#4.2)\n",
    "        * [5.2.1. Explained Variance using PCA](#4.2.1)\n",
    "        * [5.2.2. Looking at Portfolio weights](#4.2.2)\n",
    "        * [5.2.3. Finding the Best Eigen Portfolio](#4.2.3)\n",
    "        * [5.2.4. Backtesting Eigenportfolio](#4.2.4)"
   ]
  },
  {
   "cell_type": "markdown",
   "metadata": {},
   "source": [
    "<a id='0'></a>\n",
    "# 1. Problem Definition"
   ]
  },
  {
   "cell_type": "markdown",
   "metadata": {},
   "source": [
    "Our goal in this case study is to maximize risk-adjusted returns using dimensionality\n",
    "reduction-based algorithm on a dataset of stocks to allocate capital into different asset\n",
    "classes.\n",
    "\n",
    "The dataset used for this case study is ETFs and sotcks from Chile's roboadvisors from year 2010 onwards till 2022. The dataset can be downloaded from\n",
    "yahoo finance.\n",
    "\n",
    "https://www.soyfocus.com/\n"
   ]
  },
  {
   "cell_type": "markdown",
   "metadata": {},
   "source": [
    "<a id='1'></a>\n",
    "# 2. Getting Started- Loading the data and python packages"
   ]
  },
  {
   "cell_type": "markdown",
   "metadata": {},
   "source": [
    "<a id='1.1'></a>\n",
    "## 2.1. Loading the python packages"
   ]
  },
  {
   "cell_type": "code",
   "execution_count": 1,
   "metadata": {
    "_cell_guid": "5d8fee34-f454-2642-8b06-ed719f0317e1",
    "tags": []
   },
   "outputs": [],
   "source": [
    "# Load libraries\n",
    "import numpy as np\n",
    "import pandas as pd\n",
    "import matplotlib.pyplot as plt\n",
    "from pandas import read_csv, set_option\n",
    "from pandas.plotting import scatter_matrix\n",
    "import seaborn as sns\n",
    "from sklearn.preprocessing import StandardScaler\n",
    "\n",
    "#Import Model Packages \n",
    "from sklearn.decomposition import PCA\n",
    "from sklearn.decomposition import TruncatedSVD\n",
    "from numpy.linalg import inv, eig, svd\n",
    "\n",
    "from sklearn.manifold import TSNE\n",
    "from sklearn.decomposition import KernelPCA\n",
    "import yfinance as yf\n"
   ]
  },
  {
   "cell_type": "markdown",
   "metadata": {},
   "source": [
    "<a id='1.2'></a>\n",
    "## 2.2. Loading the Data"
   ]
  },
  {
   "cell_type": "markdown",
   "metadata": {},
   "source": [
    "help(yf.Ticker)"
   ]
  },
  {
   "cell_type": "code",
   "execution_count": 45,
   "metadata": {},
   "outputs": [],
   "source": [
    "\n",
    "stocks_names = [\"ITOT\",\"IVV\",\"QQQ\",\"VTI\",\"CXSE\",\"IJR\",\"0LMR.L\",\n",
    "                \"VPL\",\"VWO\",\"SUSA\",\"CEMB\",\"HYEM\",\"MGV\",\"USHY\"]"
   ]
  },
  {
   "cell_type": "code",
   "execution_count": 46,
   "metadata": {},
   "outputs": [
    {
     "data": {
      "text/plain": [
       "'iShares Broad USD High Yield Co'"
      ]
     },
     "execution_count": 46,
     "metadata": {},
     "output_type": "execute_result"
    }
   ],
   "source": [
    "yf.Ticker(\"USHY\").info[\"shortName\"]"
   ]
  },
  {
   "cell_type": "code",
   "execution_count": null,
   "metadata": {},
   "outputs": [],
   "source": []
  },
  {
   "cell_type": "code",
   "execution_count": null,
   "metadata": {},
   "outputs": [],
   "source": []
  },
  {
   "cell_type": "code",
   "execution_count": 47,
   "metadata": {},
   "outputs": [],
   "source": [
    "dataset = pd.DataFrame()"
   ]
  },
  {
   "cell_type": "code",
   "execution_count": 48,
   "metadata": {},
   "outputs": [],
   "source": [
    "stocks = []\n",
    "for s in stocks_names:\n",
    "    value = yf.Ticker(s).history(period = \"10y\").Close\n",
    "    dat = pd.DataFrame({\"{}\".format(s): value})\n",
    "    dataset = pd.concat([dataset,dat],axis = 1)"
   ]
  },
  {
   "cell_type": "markdown",
   "metadata": {
    "_cell_guid": "df6a4523-b385-69ee-c933-592826d81431"
   },
   "source": [
    "<a id='2'></a>\n",
    "# 3. Exploratory Data Analysis"
   ]
  },
  {
   "cell_type": "markdown",
   "metadata": {},
   "source": [
    "<a id='2.1'></a>\n",
    "## 3.1. Descriptive Statistics"
   ]
  },
  {
   "cell_type": "code",
   "execution_count": 49,
   "metadata": {
    "_cell_guid": "52f85dc2-0f91-3c50-400e-ddc38bea966b"
   },
   "outputs": [
    {
     "data": {
      "text/plain": [
       "(2519, 14)"
      ]
     },
     "execution_count": 49,
     "metadata": {},
     "output_type": "execute_result"
    }
   ],
   "source": [
    "# shape\n",
    "dataset.shape"
   ]
  },
  {
   "cell_type": "code",
   "execution_count": 50,
   "metadata": {},
   "outputs": [
    {
     "data": {
      "text/html": [
       "<div>\n",
       "<style scoped>\n",
       "    .dataframe tbody tr th:only-of-type {\n",
       "        vertical-align: middle;\n",
       "    }\n",
       "\n",
       "    .dataframe tbody tr th {\n",
       "        vertical-align: top;\n",
       "    }\n",
       "\n",
       "    .dataframe thead th {\n",
       "        text-align: right;\n",
       "    }\n",
       "</style>\n",
       "<table border=\"1\" class=\"dataframe\">\n",
       "  <thead>\n",
       "    <tr style=\"text-align: right;\">\n",
       "      <th></th>\n",
       "      <th>ITOT</th>\n",
       "      <th>IVV</th>\n",
       "      <th>QQQ</th>\n",
       "      <th>VTI</th>\n",
       "      <th>CXSE</th>\n",
       "      <th>IJR</th>\n",
       "      <th>0LMR.L</th>\n",
       "      <th>VPL</th>\n",
       "      <th>VWO</th>\n",
       "      <th>SUSA</th>\n",
       "      <th>CEMB</th>\n",
       "      <th>HYEM</th>\n",
       "      <th>MGV</th>\n",
       "      <th>USHY</th>\n",
       "    </tr>\n",
       "    <tr>\n",
       "      <th>Date</th>\n",
       "      <th></th>\n",
       "      <th></th>\n",
       "      <th></th>\n",
       "      <th></th>\n",
       "      <th></th>\n",
       "      <th></th>\n",
       "      <th></th>\n",
       "      <th></th>\n",
       "      <th></th>\n",
       "      <th></th>\n",
       "      <th></th>\n",
       "      <th></th>\n",
       "      <th></th>\n",
       "      <th></th>\n",
       "    </tr>\n",
       "  </thead>\n",
       "  <tbody>\n",
       "    <tr>\n",
       "      <th>2012-12-10</th>\n",
       "      <td>26.787</td>\n",
       "      <td>118.608</td>\n",
       "      <td>59.237</td>\n",
       "      <td>60.885</td>\n",
       "      <td>24.014</td>\n",
       "      <td>33.223</td>\n",
       "      <td>NaN</td>\n",
       "      <td>39.921</td>\n",
       "      <td>32.849</td>\n",
       "      <td>25.677</td>\n",
       "      <td>35.782</td>\n",
       "      <td>14.664</td>\n",
       "      <td>33.176</td>\n",
       "      <td>NaN</td>\n",
       "    </tr>\n",
       "    <tr>\n",
       "      <th>2012-12-11</th>\n",
       "      <td>26.960</td>\n",
       "      <td>119.295</td>\n",
       "      <td>60.011</td>\n",
       "      <td>61.268</td>\n",
       "      <td>24.049</td>\n",
       "      <td>33.514</td>\n",
       "      <td>NaN</td>\n",
       "      <td>40.074</td>\n",
       "      <td>33.016</td>\n",
       "      <td>25.824</td>\n",
       "      <td>35.636</td>\n",
       "      <td>14.785</td>\n",
       "      <td>33.394</td>\n",
       "      <td>NaN</td>\n",
       "    </tr>\n",
       "    <tr>\n",
       "      <th>2012-12-12</th>\n",
       "      <td>26.948</td>\n",
       "      <td>119.461</td>\n",
       "      <td>59.883</td>\n",
       "      <td>61.293</td>\n",
       "      <td>24.036</td>\n",
       "      <td>33.345</td>\n",
       "      <td>NaN</td>\n",
       "      <td>40.257</td>\n",
       "      <td>33.145</td>\n",
       "      <td>25.793</td>\n",
       "      <td>35.656</td>\n",
       "      <td>14.736</td>\n",
       "      <td>33.495</td>\n",
       "      <td>NaN</td>\n",
       "    </tr>\n",
       "    <tr>\n",
       "      <th>2012-12-13</th>\n",
       "      <td>26.832</td>\n",
       "      <td>118.715</td>\n",
       "      <td>59.410</td>\n",
       "      <td>60.944</td>\n",
       "      <td>23.784</td>\n",
       "      <td>33.171</td>\n",
       "      <td>NaN</td>\n",
       "      <td>40.104</td>\n",
       "      <td>32.986</td>\n",
       "      <td>25.677</td>\n",
       "      <td>35.649</td>\n",
       "      <td>14.752</td>\n",
       "      <td>33.285</td>\n",
       "      <td>NaN</td>\n",
       "    </tr>\n",
       "    <tr>\n",
       "      <th>2012-12-14</th>\n",
       "      <td>26.671</td>\n",
       "      <td>118.301</td>\n",
       "      <td>58.846</td>\n",
       "      <td>60.686</td>\n",
       "      <td>23.987</td>\n",
       "      <td>33.106</td>\n",
       "      <td>NaN</td>\n",
       "      <td>40.181</td>\n",
       "      <td>33.153</td>\n",
       "      <td>25.608</td>\n",
       "      <td>35.835</td>\n",
       "      <td>14.752</td>\n",
       "      <td>33.230</td>\n",
       "      <td>NaN</td>\n",
       "    </tr>\n",
       "  </tbody>\n",
       "</table>\n",
       "</div>"
      ],
      "text/plain": [
       "              ITOT      IVV     QQQ     VTI    CXSE     IJR  0LMR.L     VPL     VWO    SUSA  \\\n",
       "Date                                                                                          \n",
       "2012-12-10  26.787  118.608  59.237  60.885  24.014  33.223     NaN  39.921  32.849  25.677   \n",
       "2012-12-11  26.960  119.295  60.011  61.268  24.049  33.514     NaN  40.074  33.016  25.824   \n",
       "2012-12-12  26.948  119.461  59.883  61.293  24.036  33.345     NaN  40.257  33.145  25.793   \n",
       "2012-12-13  26.832  118.715  59.410  60.944  23.784  33.171     NaN  40.104  32.986  25.677   \n",
       "2012-12-14  26.671  118.301  58.846  60.686  23.987  33.106     NaN  40.181  33.153  25.608   \n",
       "\n",
       "              CEMB    HYEM     MGV  USHY  \n",
       "Date                                      \n",
       "2012-12-10  35.782  14.664  33.176   NaN  \n",
       "2012-12-11  35.636  14.785  33.394   NaN  \n",
       "2012-12-12  35.656  14.736  33.495   NaN  \n",
       "2012-12-13  35.649  14.752  33.285   NaN  \n",
       "2012-12-14  35.835  14.752  33.230   NaN  "
      ]
     },
     "execution_count": 50,
     "metadata": {},
     "output_type": "execute_result"
    }
   ],
   "source": [
    "# peek at data\n",
    "set_option('display.width', 100)\n",
    "dataset.head(5)"
   ]
  },
  {
   "cell_type": "code",
   "execution_count": 51,
   "metadata": {
    "_cell_guid": "f36dd804-0c16-f0c9-05c9-d22b85a79e75",
    "tags": []
   },
   "outputs": [
    {
     "data": {
      "text/plain": [
       "ITOT      float64\n",
       "IVV       float64\n",
       "QQQ       float64\n",
       "VTI       float64\n",
       "CXSE      float64\n",
       "IJR       float64\n",
       "0LMR.L    float64\n",
       "VPL       float64\n",
       "VWO       float64\n",
       "SUSA      float64\n",
       "CEMB      float64\n",
       "HYEM      float64\n",
       "MGV       float64\n",
       "USHY      float64\n",
       "dtype: object"
      ]
     },
     "execution_count": 51,
     "metadata": {},
     "output_type": "execute_result"
    }
   ],
   "source": [
    "# types\n",
    "set_option('display.max_rows', 500)\n",
    "dataset.dtypes"
   ]
  },
  {
   "cell_type": "code",
   "execution_count": 52,
   "metadata": {
    "_cell_guid": "7bffeec0-5bbc-fffb-18f2-3da56b862ca3"
   },
   "outputs": [
    {
     "data": {
      "text/html": [
       "<div>\n",
       "<style scoped>\n",
       "    .dataframe tbody tr th:only-of-type {\n",
       "        vertical-align: middle;\n",
       "    }\n",
       "\n",
       "    .dataframe tbody tr th {\n",
       "        vertical-align: top;\n",
       "    }\n",
       "\n",
       "    .dataframe thead th {\n",
       "        text-align: right;\n",
       "    }\n",
       "</style>\n",
       "<table border=\"1\" class=\"dataframe\">\n",
       "  <thead>\n",
       "    <tr style=\"text-align: right;\">\n",
       "      <th></th>\n",
       "      <th>ITOT</th>\n",
       "      <th>IVV</th>\n",
       "      <th>QQQ</th>\n",
       "      <th>VTI</th>\n",
       "      <th>CXSE</th>\n",
       "      <th>IJR</th>\n",
       "      <th>0LMR.L</th>\n",
       "      <th>VPL</th>\n",
       "      <th>VWO</th>\n",
       "      <th>SUSA</th>\n",
       "      <th>CEMB</th>\n",
       "      <th>HYEM</th>\n",
       "      <th>MGV</th>\n",
       "      <th>USHY</th>\n",
       "    </tr>\n",
       "  </thead>\n",
       "  <tbody>\n",
       "    <tr>\n",
       "      <th>count</th>\n",
       "      <td>2519.000</td>\n",
       "      <td>2519.000</td>\n",
       "      <td>2519.000</td>\n",
       "      <td>2519.000</td>\n",
       "      <td>2441.000</td>\n",
       "      <td>2519.000</td>\n",
       "      <td>1.00</td>\n",
       "      <td>2519.000</td>\n",
       "      <td>2519.000</td>\n",
       "      <td>2519.000</td>\n",
       "      <td>2518.000</td>\n",
       "      <td>2519.000</td>\n",
       "      <td>2519.000</td>\n",
       "      <td>1283.000</td>\n",
       "    </tr>\n",
       "    <tr>\n",
       "      <th>mean</th>\n",
       "      <td>57.901</td>\n",
       "      <td>255.414</td>\n",
       "      <td>174.312</td>\n",
       "      <td>130.610</td>\n",
       "      <td>34.960</td>\n",
       "      <td>68.482</td>\n",
       "      <td>56.95</td>\n",
       "      <td>57.920</td>\n",
       "      <td>36.956</td>\n",
       "      <td>54.693</td>\n",
       "      <td>40.842</td>\n",
       "      <td>17.497</td>\n",
       "      <td>65.567</td>\n",
       "      <td>36.271</td>\n",
       "    </tr>\n",
       "    <tr>\n",
       "      <th>std</th>\n",
       "      <td>21.295</td>\n",
       "      <td>94.870</td>\n",
       "      <td>94.239</td>\n",
       "      <td>47.882</td>\n",
       "      <td>13.002</td>\n",
       "      <td>21.341</td>\n",
       "      <td>NaN</td>\n",
       "      <td>10.585</td>\n",
       "      <td>6.321</td>\n",
       "      <td>21.098</td>\n",
       "      <td>4.916</td>\n",
       "      <td>2.212</td>\n",
       "      <td>19.756</td>\n",
       "      <td>2.110</td>\n",
       "    </tr>\n",
       "    <tr>\n",
       "      <th>min</th>\n",
       "      <td>26.533</td>\n",
       "      <td>117.291</td>\n",
       "      <td>58.341</td>\n",
       "      <td>60.371</td>\n",
       "      <td>17.781</td>\n",
       "      <td>33.106</td>\n",
       "      <td>56.95</td>\n",
       "      <td>39.921</td>\n",
       "      <td>23.812</td>\n",
       "      <td>25.502</td>\n",
       "      <td>31.992</td>\n",
       "      <td>13.777</td>\n",
       "      <td>32.911</td>\n",
       "      <td>27.538</td>\n",
       "    </tr>\n",
       "    <tr>\n",
       "      <th>25%</th>\n",
       "      <td>40.848</td>\n",
       "      <td>179.955</td>\n",
       "      <td>99.833</td>\n",
       "      <td>92.418</td>\n",
       "      <td>23.832</td>\n",
       "      <td>50.316</td>\n",
       "      <td>56.95</td>\n",
       "      <td>48.462</td>\n",
       "      <td>32.429</td>\n",
       "      <td>37.996</td>\n",
       "      <td>36.209</td>\n",
       "      <td>15.393</td>\n",
       "      <td>49.272</td>\n",
       "      <td>34.463</td>\n",
       "    </tr>\n",
       "    <tr>\n",
       "      <th>50%</th>\n",
       "      <td>54.147</td>\n",
       "      <td>237.648</td>\n",
       "      <td>149.396</td>\n",
       "      <td>121.725</td>\n",
       "      <td>33.090</td>\n",
       "      <td>65.382</td>\n",
       "      <td>56.95</td>\n",
       "      <td>57.755</td>\n",
       "      <td>35.786</td>\n",
       "      <td>50.176</td>\n",
       "      <td>40.540</td>\n",
       "      <td>17.571</td>\n",
       "      <td>64.209</td>\n",
       "      <td>37.136</td>\n",
       "    </tr>\n",
       "    <tr>\n",
       "      <th>75%</th>\n",
       "      <td>70.355</td>\n",
       "      <td>312.732</td>\n",
       "      <td>237.907</td>\n",
       "      <td>158.409</td>\n",
       "      <td>41.118</td>\n",
       "      <td>79.852</td>\n",
       "      <td>56.95</td>\n",
       "      <td>64.332</td>\n",
       "      <td>40.398</td>\n",
       "      <td>66.398</td>\n",
       "      <td>44.653</td>\n",
       "      <td>19.028</td>\n",
       "      <td>75.260</td>\n",
       "      <td>37.908</td>\n",
       "    </tr>\n",
       "    <tr>\n",
       "      <th>max</th>\n",
       "      <td>106.431</td>\n",
       "      <td>474.319</td>\n",
       "      <td>401.487</td>\n",
       "      <td>240.230</td>\n",
       "      <td>79.277</td>\n",
       "      <td>118.389</td>\n",
       "      <td>56.95</td>\n",
       "      <td>82.723</td>\n",
       "      <td>53.773</td>\n",
       "      <td>105.568</td>\n",
       "      <td>50.104</td>\n",
       "      <td>21.911</td>\n",
       "      <td>107.723</td>\n",
       "      <td>39.919</td>\n",
       "    </tr>\n",
       "  </tbody>\n",
       "</table>\n",
       "</div>"
      ],
      "text/plain": [
       "           ITOT       IVV       QQQ       VTI      CXSE       IJR  0LMR.L       VPL       VWO  \\\n",
       "count  2519.000  2519.000  2519.000  2519.000  2441.000  2519.000    1.00  2519.000  2519.000   \n",
       "mean     57.901   255.414   174.312   130.610    34.960    68.482   56.95    57.920    36.956   \n",
       "std      21.295    94.870    94.239    47.882    13.002    21.341     NaN    10.585     6.321   \n",
       "min      26.533   117.291    58.341    60.371    17.781    33.106   56.95    39.921    23.812   \n",
       "25%      40.848   179.955    99.833    92.418    23.832    50.316   56.95    48.462    32.429   \n",
       "50%      54.147   237.648   149.396   121.725    33.090    65.382   56.95    57.755    35.786   \n",
       "75%      70.355   312.732   237.907   158.409    41.118    79.852   56.95    64.332    40.398   \n",
       "max     106.431   474.319   401.487   240.230    79.277   118.389   56.95    82.723    53.773   \n",
       "\n",
       "           SUSA      CEMB      HYEM       MGV      USHY  \n",
       "count  2519.000  2518.000  2519.000  2519.000  1283.000  \n",
       "mean     54.693    40.842    17.497    65.567    36.271  \n",
       "std      21.098     4.916     2.212    19.756     2.110  \n",
       "min      25.502    31.992    13.777    32.911    27.538  \n",
       "25%      37.996    36.209    15.393    49.272    34.463  \n",
       "50%      50.176    40.540    17.571    64.209    37.136  \n",
       "75%      66.398    44.653    19.028    75.260    37.908  \n",
       "max     105.568    50.104    21.911   107.723    39.919  "
      ]
     },
     "execution_count": 52,
     "metadata": {},
     "output_type": "execute_result"
    }
   ],
   "source": [
    "# describe data\n",
    "set_option('precision', 3)\n",
    "dataset.describe()"
   ]
  },
  {
   "cell_type": "markdown",
   "metadata": {},
   "source": [
    "<a id='2.2'></a>\n",
    "## 3.2. Data Visualization"
   ]
  },
  {
   "cell_type": "markdown",
   "metadata": {},
   "source": [
    "Taking a look at the correlation. More detailed look at the data will be performed after implementing the Dimensionality Reduction Models."
   ]
  },
  {
   "cell_type": "code",
   "execution_count": 53,
   "metadata": {},
   "outputs": [
    {
     "data": {
      "text/plain": [
       "<AxesSubplot:title={'center':'Correlation Matrix'}>"
      ]
     },
     "execution_count": 53,
     "metadata": {},
     "output_type": "execute_result"
    },
    {
     "data": {
      "image/png": "[encoded data removed]",
      "text/plain": [
       "<Figure size 1080x1080 with 2 Axes>"
      ]
     },
     "metadata": {
      "needs_background": "light"
     },
     "output_type": "display_data"
    }
   ],
   "source": [
    "# correlation\n",
    "correlation = dataset.corr()\n",
    "plt.figure(figsize=(15,15))\n",
    "plt.title('Correlation Matrix')\n",
    "sns.heatmap(correlation, vmax=1, square=True,annot=True,cmap='cubehelix')"
   ]
  },
  {
   "cell_type": "markdown",
   "metadata": {},
   "source": [
    "As it can be seen by the chart above, there is a significant positive correlation between\n",
    "the stocks. "
   ]
  },
  {
   "cell_type": "markdown",
   "metadata": {},
   "source": [
    "<a id='3'></a>\n",
    "## 4. Data Preparation"
   ]
  },
  {
   "cell_type": "markdown",
   "metadata": {},
   "source": [
    "<a id='3.1'></a>\n",
    "## 4.1. Data Cleaning\n",
    "Let us check for the NAs in the rows, either drop them or fill them with the mean of the column"
   ]
  },
  {
   "cell_type": "code",
   "execution_count": 54,
   "metadata": {},
   "outputs": [
    {
     "name": "stdout",
     "output_type": "stream",
     "text": [
      "Null Values = True\n"
     ]
    }
   ],
   "source": [
    "#Checking for any null values and removing the null values'''\n",
    "print('Null Values =',dataset.isnull().values.any())"
   ]
  },
  {
   "cell_type": "markdown",
   "metadata": {},
   "source": [
    "Getting rid of the columns with more than 30% missing values. "
   ]
  },
  {
   "cell_type": "code",
   "execution_count": 55,
   "metadata": {},
   "outputs": [
    {
     "data": {
      "text/plain": [
       "(2519, 12)"
      ]
     },
     "execution_count": 55,
     "metadata": {},
     "output_type": "execute_result"
    }
   ],
   "source": [
    "missing_fractions = dataset.isnull().mean().sort_values(ascending=False)\n",
    "\n",
    "missing_fractions.head(10)\n",
    "\n",
    "drop_list = sorted(list(missing_fractions[missing_fractions > 0.3].index))\n",
    "\n",
    "dataset.drop(labels=drop_list, axis=1, inplace=True)\n",
    "dataset.shape"
   ]
  },
  {
   "cell_type": "code",
   "execution_count": null,
   "metadata": {},
   "outputs": [],
   "source": []
  },
  {
   "cell_type": "markdown",
   "metadata": {},
   "source": [
    "Given that there are null values drop the rown contianing the null values."
   ]
  },
  {
   "cell_type": "code",
   "execution_count": 56,
   "metadata": {},
   "outputs": [
    {
     "data": {
      "text/html": [
       "<div>\n",
       "<style scoped>\n",
       "    .dataframe tbody tr th:only-of-type {\n",
       "        vertical-align: middle;\n",
       "    }\n",
       "\n",
       "    .dataframe tbody tr th {\n",
       "        vertical-align: top;\n",
       "    }\n",
       "\n",
       "    .dataframe thead th {\n",
       "        text-align: right;\n",
       "    }\n",
       "</style>\n",
       "<table border=\"1\" class=\"dataframe\">\n",
       "  <thead>\n",
       "    <tr style=\"text-align: right;\">\n",
       "      <th></th>\n",
       "      <th>ITOT</th>\n",
       "      <th>IVV</th>\n",
       "      <th>QQQ</th>\n",
       "      <th>VTI</th>\n",
       "      <th>CXSE</th>\n",
       "      <th>IJR</th>\n",
       "      <th>VPL</th>\n",
       "      <th>VWO</th>\n",
       "      <th>SUSA</th>\n",
       "      <th>CEMB</th>\n",
       "      <th>HYEM</th>\n",
       "      <th>MGV</th>\n",
       "    </tr>\n",
       "    <tr>\n",
       "      <th>Date</th>\n",
       "      <th></th>\n",
       "      <th></th>\n",
       "      <th></th>\n",
       "      <th></th>\n",
       "      <th></th>\n",
       "      <th></th>\n",
       "      <th></th>\n",
       "      <th></th>\n",
       "      <th></th>\n",
       "      <th></th>\n",
       "      <th></th>\n",
       "      <th></th>\n",
       "    </tr>\n",
       "  </thead>\n",
       "  <tbody>\n",
       "    <tr>\n",
       "      <th>2012-12-10</th>\n",
       "      <td>26.787</td>\n",
       "      <td>118.608</td>\n",
       "      <td>59.237</td>\n",
       "      <td>60.885</td>\n",
       "      <td>24.014</td>\n",
       "      <td>33.223</td>\n",
       "      <td>39.921</td>\n",
       "      <td>32.849</td>\n",
       "      <td>25.677</td>\n",
       "      <td>35.782</td>\n",
       "      <td>14.664</td>\n",
       "      <td>33.176</td>\n",
       "    </tr>\n",
       "    <tr>\n",
       "      <th>2012-12-11</th>\n",
       "      <td>26.960</td>\n",
       "      <td>119.295</td>\n",
       "      <td>60.011</td>\n",
       "      <td>61.268</td>\n",
       "      <td>24.049</td>\n",
       "      <td>33.514</td>\n",
       "      <td>40.074</td>\n",
       "      <td>33.016</td>\n",
       "      <td>25.824</td>\n",
       "      <td>35.636</td>\n",
       "      <td>14.785</td>\n",
       "      <td>33.394</td>\n",
       "    </tr>\n",
       "  </tbody>\n",
       "</table>\n",
       "</div>"
      ],
      "text/plain": [
       "              ITOT      IVV     QQQ     VTI    CXSE     IJR     VPL     VWO    SUSA    CEMB  \\\n",
       "Date                                                                                          \n",
       "2012-12-10  26.787  118.608  59.237  60.885  24.014  33.223  39.921  32.849  25.677  35.782   \n",
       "2012-12-11  26.960  119.295  60.011  61.268  24.049  33.514  40.074  33.016  25.824  35.636   \n",
       "\n",
       "              HYEM     MGV  \n",
       "Date                        \n",
       "2012-12-10  14.664  33.176  \n",
       "2012-12-11  14.785  33.394  "
      ]
     },
     "execution_count": 56,
     "metadata": {},
     "output_type": "execute_result"
    }
   ],
   "source": [
    "# Fill the missing values with the last value available in the dataset. \n",
    "dataset=dataset.fillna(method='ffill')\n",
    "\n",
    "# Drop the rows containing NA\n",
    "dataset= dataset.dropna(axis=0)\n",
    "# Fill na with 0\n",
    "#dataset.fillna('0')\n",
    "\n",
    "dataset.head(2)"
   ]
  },
  {
   "cell_type": "markdown",
   "metadata": {},
   "source": [
    "Computing Daily Return"
   ]
  },
  {
   "cell_type": "code",
   "execution_count": 57,
   "metadata": {},
   "outputs": [],
   "source": [
    "# Daily Log Returns (%)\n",
    "# datareturns = np.log(data / data.shift(1)) \n",
    "\n",
    "# Daily Linear Returns (%)\n",
    "datareturns = dataset.pct_change(1)\n",
    "\n",
    "#Remove Outliers beyong 3 standard deviation\n",
    "datareturns= datareturns[datareturns.apply(lambda x :(x-x.mean()).abs()<(3*x.std()) ).all(1)]"
   ]
  },
  {
   "cell_type": "markdown",
   "metadata": {},
   "source": [
    "<a id='3.2'></a>\n",
    "## 4.2. Data Transformation"
   ]
  },
  {
   "cell_type": "markdown",
   "metadata": {},
   "source": [
    "All the variables should be on the same scale before applying PCA, otherwise a feature with large values will dominate the result. Below we use StandardScaler in sklearn to standardize the dataset’s features onto unit scale (mean = 0 and variance = 1).\n",
    "\n",
    "Standardization is a useful technique to transform attributes to a standard Normal distribution with a mean of\n",
    "0 and a standard deviation of 1."
   ]
  },
  {
   "cell_type": "code",
   "execution_count": 58,
   "metadata": {},
   "outputs": [
    {
     "data": {
      "text/html": [
       "<div>\n",
       "<style scoped>\n",
       "    .dataframe tbody tr th:only-of-type {\n",
       "        vertical-align: middle;\n",
       "    }\n",
       "\n",
       "    .dataframe tbody tr th {\n",
       "        vertical-align: top;\n",
       "    }\n",
       "\n",
       "    .dataframe thead th {\n",
       "        text-align: right;\n",
       "    }\n",
       "</style>\n",
       "<table border=\"1\" class=\"dataframe\">\n",
       "  <thead>\n",
       "    <tr style=\"text-align: right;\">\n",
       "      <th></th>\n",
       "      <th>ITOT</th>\n",
       "      <th>IVV</th>\n",
       "      <th>QQQ</th>\n",
       "      <th>VTI</th>\n",
       "      <th>CXSE</th>\n",
       "      <th>IJR</th>\n",
       "      <th>VPL</th>\n",
       "      <th>VWO</th>\n",
       "      <th>SUSA</th>\n",
       "      <th>CEMB</th>\n",
       "      <th>HYEM</th>\n",
       "      <th>MGV</th>\n",
       "    </tr>\n",
       "    <tr>\n",
       "      <th>Date</th>\n",
       "      <th></th>\n",
       "      <th></th>\n",
       "      <th></th>\n",
       "      <th></th>\n",
       "      <th></th>\n",
       "      <th></th>\n",
       "      <th></th>\n",
       "      <th></th>\n",
       "      <th></th>\n",
       "      <th></th>\n",
       "      <th></th>\n",
       "      <th></th>\n",
       "    </tr>\n",
       "  </thead>\n",
       "  <tbody>\n",
       "    <tr>\n",
       "      <th>2012-12-11</th>\n",
       "      <td>0.679</td>\n",
       "      <td>0.608</td>\n",
       "      <td>1.121</td>\n",
       "      <td>0.656</td>\n",
       "      <td>0.074</td>\n",
       "      <td>0.745</td>\n",
       "      <td>0.400</td>\n",
       "      <td>0.450</td>\n",
       "      <td>0.588</td>\n",
       "      <td>-1.070</td>\n",
       "      <td>2.074</td>\n",
       "      <td>0.755</td>\n",
       "    </tr>\n",
       "    <tr>\n",
       "      <th>2012-12-12</th>\n",
       "      <td>-0.143</td>\n",
       "      <td>0.077</td>\n",
       "      <td>-0.287</td>\n",
       "      <td>-0.040</td>\n",
       "      <td>-0.066</td>\n",
       "      <td>-0.522</td>\n",
       "      <td>0.489</td>\n",
       "      <td>0.338</td>\n",
       "      <td>-0.226</td>\n",
       "      <td>0.104</td>\n",
       "      <td>-0.919</td>\n",
       "      <td>0.300</td>\n",
       "    </tr>\n",
       "  </tbody>\n",
       "</table>\n",
       "</div>"
      ],
      "text/plain": [
       "             ITOT    IVV    QQQ    VTI   CXSE    IJR    VPL    VWO   SUSA   CEMB   HYEM    MGV\n",
       "Date                                                                                          \n",
       "2012-12-11  0.679  0.608  1.121  0.656  0.074  0.745  0.400  0.450  0.588 -1.070  2.074  0.755\n",
       "2012-12-12 -0.143  0.077 -0.287 -0.040 -0.066 -0.522  0.489  0.338 -0.226  0.104 -0.919  0.300"
      ]
     },
     "execution_count": 58,
     "metadata": {},
     "output_type": "execute_result"
    }
   ],
   "source": [
    "from sklearn.preprocessing import StandardScaler\n",
    "scaler = StandardScaler().fit(datareturns)\n",
    "rescaledDataset = pd.DataFrame(scaler.fit_transform(datareturns),columns = datareturns.columns, index = datareturns.index)\n",
    "# summarize transformed data\n",
    "datareturns.dropna(how='any', inplace=True)\n",
    "rescaledDataset.dropna(how='any', inplace=True)\n",
    "rescaledDataset.head(2)"
   ]
  },
  {
   "cell_type": "code",
   "execution_count": 59,
   "metadata": {},
   "outputs": [
    {
     "data": {
      "text/plain": [
       "<AxesSubplot:xlabel='Date'>"
      ]
     },
     "execution_count": 59,
     "metadata": {},
     "output_type": "execute_result"
    },
    {
     "data": {
      "image/png": "[encoded data removed]",
      "text/plain": [
       "<Figure size 432x288 with 1 Axes>"
      ]
     },
     "metadata": {
      "needs_background": "light"
     },
     "output_type": "display_data"
    }
   ],
   "source": [
    "# Visualizing Log Returns for the DJIA \n",
    "#plt.figure(figsize=(16, 5))\n",
    "#plt.title(\"AAPL Return\")\n",
    "#plt.ylabel(\"Return\")\n",
    "rescaledDataset.ITOT.plot()\n",
    "#plt.grid(True);\n",
    "#plt.legend()\n",
    "#plt.show()"
   ]
  },
  {
   "cell_type": "markdown",
   "metadata": {},
   "source": [
    "<a id='4'></a>\n",
    "# 5. Evaluate Algorithms and Models"
   ]
  },
  {
   "cell_type": "markdown",
   "metadata": {},
   "source": [
    "<a id='4.1'></a>\n",
    "## 5.1. Train Test Split"
   ]
  },
  {
   "cell_type": "markdown",
   "metadata": {},
   "source": [
    "The portfolio is divided into train and test split to perform the analysis regarding the best porfolio and backtesting shown later. "
   ]
  },
  {
   "cell_type": "code",
   "execution_count": 60,
   "metadata": {},
   "outputs": [],
   "source": [
    "# Dividing the dataset into training and testing sets\n",
    "percentage = int(len(rescaledDataset) * 0.7)\n",
    "X_train = rescaledDataset[:percentage]\n",
    "X_test = rescaledDataset[percentage:]\n",
    "\n",
    "X_train_raw = datareturns[:percentage]\n",
    "X_test_raw = datareturns[percentage:]\n",
    "\n",
    "\n",
    "stock_tickers = rescaledDataset.columns.values\n",
    "n_tickers = len(stock_tickers)"
   ]
  },
  {
   "cell_type": "markdown",
   "metadata": {},
   "source": [
    "<a id='4.2'></a>\n",
    "## 5.2. Model Evaluation- Applying Principle Component Analysis"
   ]
  },
  {
   "cell_type": "markdown",
   "metadata": {},
   "source": [
    "As this step, we create a function to compute principle component analysis from sklearn. This function computes an inversed elbow chart that shows the amount of principle components and how many of them explain the variance treshold."
   ]
  },
  {
   "cell_type": "code",
   "execution_count": 61,
   "metadata": {},
   "outputs": [],
   "source": [
    "pca = PCA()\n",
    "PrincipalComponent=pca.fit(X_train)"
   ]
  },
  {
   "cell_type": "markdown",
   "metadata": {},
   "source": [
    "### First Principal Component /Eigenvector"
   ]
  },
  {
   "cell_type": "code",
   "execution_count": 62,
   "metadata": {},
   "outputs": [
    {
     "data": {
      "text/plain": [
       "array([-0.33597371, -0.3389856 , -0.30516189, -0.33705698, -0.19941087,\n",
       "       -0.29073756, -0.3149807 , -0.31964233, -0.32631248, -0.05675544,\n",
       "       -0.12538813, -0.33819958])"
      ]
     },
     "execution_count": 62,
     "metadata": {},
     "output_type": "execute_result"
    }
   ],
   "source": [
    "pca.components_[0]"
   ]
  },
  {
   "cell_type": "markdown",
   "metadata": {},
   "source": [
    "<a id='4.2.1'></a>\n",
    "## 5.2.1.Explained Variance using PCA"
   ]
  },
  {
   "cell_type": "code",
   "execution_count": 63,
   "metadata": {},
   "outputs": [
    {
     "data": {
      "text/html": [
       "<style type=\"text/css\">\n",
       "</style>\n",
       "<table id=\"T_d12d6_\">\n",
       "  <thead>\n",
       "    <tr>\n",
       "      <th class=\"blank level0\" >&nbsp;</th>\n",
       "      <th class=\"col_heading level0 col0\" >Explained Variance</th>\n",
       "    </tr>\n",
       "  </thead>\n",
       "  <tbody>\n",
       "    <tr>\n",
       "      <th id=\"T_d12d6_level0_row0\" class=\"row_heading level0 row0\" >0</th>\n",
       "      <td id=\"T_d12d6_row0_col0\" class=\"data row0 col0\" >65.05%</td>\n",
       "    </tr>\n",
       "    <tr>\n",
       "      <th id=\"T_d12d6_level0_row1\" class=\"row_heading level0 row1\" >1</th>\n",
       "      <td id=\"T_d12d6_row1_col0\" class=\"data row1 col0\" >76.99%</td>\n",
       "    </tr>\n",
       "    <tr>\n",
       "      <th id=\"T_d12d6_level0_row2\" class=\"row_heading level0 row2\" >2</th>\n",
       "      <td id=\"T_d12d6_row2_col0\" class=\"data row2 col0\" >84.37%</td>\n",
       "    </tr>\n",
       "    <tr>\n",
       "      <th id=\"T_d12d6_level0_row3\" class=\"row_heading level0 row3\" >3</th>\n",
       "      <td id=\"T_d12d6_row3_col0\" class=\"data row3 col0\" >90.69%</td>\n",
       "    </tr>\n",
       "    <tr>\n",
       "      <th id=\"T_d12d6_level0_row4\" class=\"row_heading level0 row4\" >4</th>\n",
       "      <td id=\"T_d12d6_row4_col0\" class=\"data row4 col0\" >94.14%</td>\n",
       "    </tr>\n",
       "    <tr>\n",
       "      <th id=\"T_d12d6_level0_row5\" class=\"row_heading level0 row5\" >5</th>\n",
       "      <td id=\"T_d12d6_row5_col0\" class=\"data row5 col0\" >96.10%</td>\n",
       "    </tr>\n",
       "    <tr>\n",
       "      <th id=\"T_d12d6_level0_row6\" class=\"row_heading level0 row6\" >6</th>\n",
       "      <td id=\"T_d12d6_row6_col0\" class=\"data row6 col0\" >97.96%</td>\n",
       "    </tr>\n",
       "    <tr>\n",
       "      <th id=\"T_d12d6_level0_row7\" class=\"row_heading level0 row7\" >7</th>\n",
       "      <td id=\"T_d12d6_row7_col0\" class=\"data row7 col0\" >99.36%</td>\n",
       "    </tr>\n",
       "    <tr>\n",
       "      <th id=\"T_d12d6_level0_row8\" class=\"row_heading level0 row8\" >8</th>\n",
       "      <td id=\"T_d12d6_row8_col0\" class=\"data row8 col0\" >99.82%</td>\n",
       "    </tr>\n",
       "    <tr>\n",
       "      <th id=\"T_d12d6_level0_row9\" class=\"row_heading level0 row9\" >9</th>\n",
       "      <td id=\"T_d12d6_row9_col0\" class=\"data row9 col0\" >99.95%</td>\n",
       "    </tr>\n",
       "  </tbody>\n",
       "</table>\n"
      ],
      "text/plain": [
       "<pandas.io.formats.style.Styler at 0x7f8ce8255d60>"
      ]
     },
     "execution_count": 63,
     "metadata": {},
     "output_type": "execute_result"
    },
    {
     "data": {
      "image/png": "[encoded data removed]",
      "text/plain": [
       "<Figure size 1008x288 with 2 Axes>"
      ]
     },
     "metadata": {
      "needs_background": "light"
     },
     "output_type": "display_data"
    }
   ],
   "source": [
    "NumEigenvalues=10\n",
    "fig, axes = plt.subplots(ncols=2, figsize=(14,4))\n",
    "Series1 = pd.Series(pca.explained_variance_ratio_[:NumEigenvalues]).sort_values()*100\n",
    "Series2 = pd.Series(pca.explained_variance_ratio_[:NumEigenvalues]).cumsum()*100\n",
    "Series1.plot.barh(ylim=(0,9), label=\"woohoo\",title='Explained Variance Ratio by Top 10 factors',ax=axes[0]);\n",
    "Series2.plot(ylim=(0,100),xlim=(0,9),ax=axes[1], title='Cumulative Explained Variance by factor');\n",
    "# explained_variance\n",
    "pd.Series(np.cumsum(pca.explained_variance_ratio_)).to_frame('Explained Variance').head(NumEigenvalues).style.format('{:,.2%}'.format)"
   ]
  },
  {
   "cell_type": "markdown",
   "metadata": {},
   "source": [
    "We find that the most important factor explains around 40% of the daily return variation. The dominant factor is usually interpreted as ‘the market’, depending on the results of closer inspection.\n",
    "\n",
    "The plot on the right shows the cumulative explained variance and indicates that around 10 factors explain 71% of the returns of this large cross-section of stocks.  "
   ]
  },
  {
   "cell_type": "markdown",
   "metadata": {},
   "source": [
    "<a id='4.2.2'></a>\n",
    "## 5.2.2.Looking at Portfolio weights"
   ]
  },
  {
   "cell_type": "markdown",
   "metadata": {},
   "source": [
    "We compute several functions to determine the weights of each principle component. We then visualize a scatterplot that visualizes an organized descending plot with the respective weight of every company at the current chosen principle component."
   ]
  },
  {
   "cell_type": "code",
   "execution_count": 64,
   "metadata": {},
   "outputs": [],
   "source": [
    "def PCWeights():\n",
    "    '''\n",
    "    Principal Components (PC) weights for each 52 PCs\n",
    "    '''\n",
    "    weights = pd.DataFrame()\n",
    "\n",
    "    for i in range(len(pca.components_)):\n",
    "        weights[\"weights_{}\".format(i)] = pca.components_[i] / sum(pca.components_[i])\n",
    "\n",
    "    weights = weights.values.T\n",
    "    return weights\n",
    "\n",
    "weights=PCWeights()"
   ]
  },
  {
   "cell_type": "code",
   "execution_count": 65,
   "metadata": {},
   "outputs": [
    {
     "data": {
      "text/plain": [
       "array([0.10216298, 0.10307884, 0.09279371, 0.10249238, 0.06063691,\n",
       "       0.08840756, 0.09577942, 0.09719693, 0.09922519, 0.01725821,\n",
       "       0.03812806, 0.10283982])"
      ]
     },
     "execution_count": 65,
     "metadata": {},
     "output_type": "execute_result"
    }
   ],
   "source": [
    "weights[0]"
   ]
  },
  {
   "cell_type": "code",
   "execution_count": 66,
   "metadata": {
    "scrolled": true,
    "tags": []
   },
   "outputs": [
    {
     "data": {
      "text/plain": [
       "array([[<AxesSubplot:title={'center':'Portfolio 0'}>],\n",
       "       [<AxesSubplot:title={'center':'Portfolio 1'}>]], dtype=object)"
      ]
     },
     "execution_count": 66,
     "metadata": {},
     "output_type": "execute_result"
    },
    {
     "data": {
      "text/plain": [
       "<Figure size 1152x648 with 0 Axes>"
      ]
     },
     "metadata": {},
     "output_type": "display_data"
    },
    {
     "data": {
      "image/png": "[encoded data removed]",
      "text/plain": [
       "<Figure size 1008x720 with 2 Axes>"
      ]
     },
     "metadata": {
      "needs_background": "light"
     },
     "output_type": "display_data"
    }
   ],
   "source": [
    "NumComponents=2\n",
    "fig = plt.figure(figsize=(16,9))\n",
    "topPortfolios = pd.DataFrame(pca.components_[:NumComponents], columns=dataset.columns)\n",
    "eigen_portfolios = topPortfolios.div(topPortfolios.sum(1), axis=0)\n",
    "eigen_portfolios.index = [f'Portfolio {i}' for i in range( NumComponents)]\n",
    "np.sqrt(pca.explained_variance_)\n",
    "eigen_portfolios.T.plot.bar(subplots=True, layout=(int(NumComponents),1), figsize=(14,10), legend=False, sharey=True, ylim= (-1,1))"
   ]
  },
  {
   "cell_type": "code",
   "execution_count": 67,
   "metadata": {},
   "outputs": [
    {
     "data": {
      "text/plain": [
       "<AxesSubplot:>"
      ]
     },
     "execution_count": 67,
     "metadata": {},
     "output_type": "execute_result"
    },
    {
     "data": {
      "image/png": "[encoded data removed]",
      "text/plain": [
       "<Figure size 432x288 with 2 Axes>"
      ]
     },
     "metadata": {
      "needs_background": "light"
     },
     "output_type": "display_data"
    }
   ],
   "source": [
    "# plotting heatmap \n",
    "sns.heatmap(topPortfolios) "
   ]
  },
  {
   "cell_type": "markdown",
   "metadata": {},
   "source": [
    "The heatmap and the plot above shown the contribution of different stocks in each\n",
    "eigenvector."
   ]
  },
  {
   "cell_type": "markdown",
   "metadata": {},
   "source": [
    "<a id='4.2.3'></a>\n",
    "## 5.2.3. Finding the Best Eigen Portfolio"
   ]
  },
  {
   "cell_type": "markdown",
   "metadata": {},
   "source": [
    "In order to find the best eigen portfolios and perform backtesting in the next step, we use the sharpe ratio, which is a performance\n",
    "metric that explains the annualized returns against the annualized volatility of each company in a portfolio. A high sharpe ratio explains higher returns and/or lower volatility for the specified portfolio. The annualized sharpe ratio is computed by dividing\n",
    "the annualized returns against the annualized volatility. For annualized return we\n",
    "apply the geometric average of all the returns in respect to the periods per year (days\n",
    "of operations in the exchange in a year). Annualized volatility is computed by taking the standard deviation of the returns and multiplying it by the square root of the peri‐\n",
    "ods per year."
   ]
  },
  {
   "cell_type": "code",
   "execution_count": 68,
   "metadata": {},
   "outputs": [],
   "source": [
    "# Sharpe Ratio\n",
    "def sharpe_ratio(ts_returns, periods_per_year=252):\n",
    "    '''\n",
    "    Sharpe ratio is the average return earned in excess of the risk-free rate per unit of volatility or total risk.\n",
    "    It calculares the annualized return, annualized volatility, and annualized sharpe ratio.\n",
    "    \n",
    "    ts_returns are  returns of a signle eigen portfolio.\n",
    "    '''\n",
    "    n_years = ts_returns.shape[0]/periods_per_year\n",
    "    annualized_return = np.power(np.prod(1+ts_returns),(1/n_years))-1\n",
    "    annualized_vol = ts_returns.std() * np.sqrt(periods_per_year)\n",
    "    annualized_sharpe = annualized_return / annualized_vol\n",
    "\n",
    "    return annualized_return, annualized_vol, annualized_sharpe"
   ]
  },
  {
   "cell_type": "markdown",
   "metadata": {},
   "source": [
    "We construct a loop to compute the principle component’s weights for each eigen\n",
    "portfolio, which then uses the sharpe ratio function to look for the portfolio with the\n",
    "highest sharpe ratio. Once we know which portfolio has the highest sharpe ratio, we\n",
    "can visualize its performance against the DJIA Index for comparison."
   ]
  },
  {
   "cell_type": "code",
   "execution_count": 72,
   "metadata": {
    "tags": []
   },
   "outputs": [
    {
     "name": "stdout",
     "output_type": "stream",
     "text": [
      "[0.10216298 0.10307884 0.09279371 0.10249238 0.06063691 0.08840756\n",
      " 0.09577942 0.09719693 0.09922519 0.01725821 0.03812806 0.10283982]\n",
      "      weights\n",
      "IVV    10.308\n",
      "MGV    10.284\n",
      "VTI    10.249\n",
      "ITOT   10.216\n",
      "SUSA    9.923\n",
      "VWO     9.720\n",
      "VPL     9.578\n",
      "QQQ     9.279\n",
      "IJR     8.841\n",
      "CXSE    6.064\n",
      "HYEM    3.813\n",
      "CEMB    1.726\n",
      "[-0.0832556  -0.08135913 -0.06778306 -0.08302886  0.13222505 -0.10061495\n",
      "  0.0667225   0.15403787 -0.07696785  0.89101473  0.34215997 -0.09315068]\n",
      "      weights\n",
      "CEMB   89.101\n",
      "HYEM   34.216\n",
      "VWO    15.404\n",
      "CXSE   13.223\n",
      "VPL     6.672\n",
      "QQQ    -6.778\n",
      "SUSA   -7.697\n",
      "IVV    -8.136\n",
      "VTI    -8.303\n",
      "ITOT   -8.326\n",
      "MGV    -9.315\n",
      "IJR   -10.061\n",
      "[-1.54340035 -1.51647072 -1.01222857 -1.55122197  6.61533898 -1.63261734\n",
      "  2.04319125  4.20378113 -1.41278848 -3.68439509  2.17706413 -1.68625298]\n",
      "      weights\n",
      "CXSE  661.534\n",
      "VWO   420.378\n",
      "HYEM  217.706\n",
      "VPL   204.319\n",
      "QQQ  -101.223\n",
      "SUSA -141.279\n",
      "IVV  -151.647\n",
      "ITOT -154.340\n",
      "VTI  -155.122\n",
      "IJR  -163.262\n",
      "MGV  -168.625\n",
      "CEMB -368.440\n",
      "[ 0.08186627  0.09587964 -0.1872984   0.08921928 -1.67938069 -0.01261387\n",
      " -0.38125177 -0.55410427  0.04465861 -1.34508503  4.58164621  0.26646401]\n",
      "      weights\n",
      "HYEM  458.165\n",
      "MGV    26.646\n",
      "IVV     9.588\n",
      "VTI     8.922\n",
      "ITOT    8.187\n",
      "SUSA    4.466\n",
      "IJR    -1.261\n",
      "QQQ   -18.730\n",
      "VPL   -38.125\n",
      "VWO   -55.410\n",
      "CEMB -134.509\n",
      "CXSE -167.938\n",
      "[ 0.24784716  0.20369851  0.69690426  0.24792268  1.78139172  0.30103415\n",
      " -2.05450084 -1.2463487   0.33648388  0.13440542  0.38522577 -0.03406401]\n",
      "      weights\n",
      "CXSE  178.139\n",
      "QQQ    69.690\n",
      "HYEM   38.523\n",
      "SUSA   33.648\n",
      "IJR    30.103\n",
      "VTI    24.792\n",
      "ITOT   24.785\n",
      "IVV    20.370\n",
      "CEMB   13.441\n",
      "MGV    -3.406\n",
      "VWO  -124.635\n",
      "VPL  -205.450\n",
      "[-0.25535527 -1.3650296  -5.56717849 -0.11539386  0.72045257  7.92274188\n",
      " -0.53978698  0.24585618 -0.78273464  0.14747315  0.1010445   0.48791056]\n",
      "      weights\n",
      "IJR   792.274\n",
      "CXSE   72.045\n",
      "MGV    48.791\n",
      "VWO    24.586\n",
      "CEMB   14.747\n",
      "HYEM   10.104\n",
      "VTI   -11.539\n",
      "ITOT  -25.536\n",
      "VPL   -53.979\n",
      "SUSA  -78.273\n",
      "IVV  -136.503\n",
      "QQQ  -556.718\n",
      "[-0.12750479 -0.17368615  0.38536493 -0.07762645  1.35920187  0.53500933\n",
      "  4.10049803 -4.47871802 -0.30945699  0.07458372  0.3865423  -0.67420779]\n",
      "      weights\n",
      "VPL   410.050\n",
      "CXSE  135.920\n",
      "IJR    53.501\n",
      "HYEM   38.654\n",
      "QQQ    38.536\n",
      "CEMB    7.458\n",
      "VTI    -7.763\n",
      "ITOT  -12.750\n",
      "IVV   -17.369\n",
      "SUSA  -30.946\n",
      "MGV   -67.421\n",
      "VWO  -447.872\n",
      "[ -0.93731092  -2.22969571  10.27319049  -0.57534916  -2.67986806\n",
      "   7.29669648  -0.07474767   2.74792187  -2.80697665  -0.26677808\n",
      "   0.39753191 -10.1446145 ]\n",
      "       weights\n",
      "QQQ   1027.319\n",
      "IJR    729.670\n",
      "VWO    274.792\n",
      "HYEM    39.753\n",
      "VPL     -7.475\n",
      "CEMB   -26.678\n",
      "VTI    -57.535\n",
      "ITOT   -93.731\n",
      "IVV   -222.970\n",
      "CXSE  -267.987\n",
      "SUSA  -280.698\n",
      "MGV  -1014.461\n",
      "[ -590.92137747  -862.72685496  -754.1309613   -653.20736888\n",
      "  -160.69570378   -96.35109625   155.75972684    23.91931045\n",
      "  4789.81078895   -38.34568136    15.53961864 -1827.65040089]\n",
      "         weights\n",
      "SUSA  478981.079\n",
      "VPL    15575.973\n",
      "VWO     2391.931\n",
      "HYEM    1553.962\n",
      "CEMB   -3834.568\n",
      "IJR    -9635.110\n",
      "CXSE  -16069.570\n",
      "ITOT  -59092.138\n",
      "VTI   -65320.737\n",
      "QQQ   -75413.096\n",
      "IVV   -86272.685\n",
      "MGV  -182765.040\n",
      "[-6.62423182 -5.60257414  5.77802796 -6.37587058 -0.11334579  2.41906946\n",
      "  0.25932221 -0.01622431  1.80696277  0.09933102  0.05025256  9.31928067]\n",
      "      weights\n",
      "MGV   931.928\n",
      "QQQ   577.803\n",
      "IJR   241.907\n",
      "SUSA  180.696\n",
      "VPL    25.932\n",
      "CEMB    9.933\n",
      "HYEM    5.025\n",
      "VWO    -1.622\n",
      "CXSE  -11.335\n",
      "IVV  -560.257\n",
      "VTI  -637.587\n",
      "ITOT -662.423\n",
      "Eigen portfolio #8 with the highest Sharpe. Return inf%, vol = 19618.20%, Sharpe = 179769313486231570814527423731704356798070567525844996598917476803157260780028538760589558632766878171540458953514382464234321326889464182768467546703537516986049910576551282076245490090389328944075868508455133942304583236903222948165808559332123348274797826204144723168738177180919299881250404026184124858368.00\n",
      "    Return      Vol      Sharpe\n",
      "8      inf  196.182  1.798e+308\n",
      "6    0.274    0.166   1.647e+00\n",
      "1    0.202    0.132   1.532e+00\n",
      "2    1.282    0.886   1.447e+00\n",
      "0    0.146    0.104   1.400e+00\n",
      "10   0.000    0.000   0.000e+00\n",
      "11   0.000    0.000   0.000e+00\n",
      "4   -0.037    0.165  -2.259e-01\n",
      "7   -0.929    1.372  -6.768e-01\n",
      "3   -0.369    0.534  -6.909e-01\n",
      "9   -0.554    0.743  -7.456e-01\n",
      "5   -0.626    0.839  -7.456e-01\n"
     ]
    },
    {
     "name": "stderr",
     "output_type": "stream",
     "text": [
      "/home/martin/anaconda3/lib/python3.8/site-packages/matplotlib/axes/_base.py:2566: RuntimeWarning: overflow encountered in double_scalars\n",
      "  x0, x1 = inverse_trans.transform([x0t - delta, x1t + delta])\n"
     ]
    },
    {
     "data": {
      "image/png": "[encoded data removed]",
      "text/plain": [
       "<Figure size 864x288 with 1 Axes>"
      ]
     },
     "metadata": {
      "needs_background": "light"
     },
     "output_type": "display_data"
    }
   ],
   "source": [
    "def optimizedPortfolio():\n",
    "    n_portfolios = len(pca.components_)\n",
    "    annualized_ret = np.array([0.] * n_portfolios)\n",
    "    sharpe_metric = np.array([0.] * n_portfolios)\n",
    "    annualized_vol = np.array([0.] * n_portfolios)\n",
    "    highest_sharpe = 0 \n",
    "    stock_tickers = rescaledDataset.columns.values\n",
    "    n_tickers = len(stock_tickers)\n",
    "    pcs = pca.components_\n",
    "    \n",
    "    for i in range(10):\n",
    "        \n",
    "        pc_w = pcs[i] / sum(pcs[i])\n",
    "        print(pc_w)\n",
    "        eigen_prtfi = pd.DataFrame(data ={'weights': pc_w.squeeze()*100}, index = stock_tickers)\n",
    "        eigen_prtfi.sort_values(by=['weights'], ascending=False, inplace=True)\n",
    "        print(eigen_prtfi)\n",
    "        eigen_prti_returns = np.dot(X_train_raw.loc[:, eigen_prtfi.index], pc_w)\n",
    "\n",
    "        eigen_prti_returns = pd.Series(eigen_prti_returns.squeeze(), index=X_train_raw.index)\n",
    "        er, vol, sharpe = sharpe_ratio(eigen_prti_returns)\n",
    "        annualized_ret[i] = er\n",
    "        annualized_vol[i] = vol\n",
    "        sharpe_metric[i] = sharpe\n",
    "        \n",
    "        sharpe_metric= np.nan_to_num(sharpe_metric)\n",
    "        \n",
    "    # find portfolio with the highest Sharpe ratio\n",
    "    highest_sharpe = np.argmax(sharpe_metric)\n",
    "\n",
    "    print('Eigen portfolio #%d with the highest Sharpe. Return %.2f%%, vol = %.2f%%, Sharpe = %.2f' % \n",
    "          (highest_sharpe,\n",
    "           annualized_ret[highest_sharpe]*100, \n",
    "           annualized_vol[highest_sharpe]*100, \n",
    "           sharpe_metric[highest_sharpe]))\n",
    "\n",
    "\n",
    "    fig, ax = plt.subplots()\n",
    "    fig.set_size_inches(12, 4)\n",
    "    ax.plot(sharpe_metric, linewidth=3)\n",
    "    ax.set_title('Sharpe ratio of eigen-portfolios')\n",
    "    ax.set_ylabel('Sharpe ratio')\n",
    "    ax.set_xlabel('Portfolios')\n",
    "\n",
    "    results = pd.DataFrame(data={'Return': annualized_ret, 'Vol': annualized_vol, 'Sharpe': sharpe_metric})\n",
    "    results.dropna(inplace=True)\n",
    "    results.sort_values(by=['Sharpe'], ascending=False, inplace=True)\n",
    "    print(results.head(20))\n",
    "\n",
    "    plt.show()\n",
    "\n",
    "optimizedPortfolio()"
   ]
  },
  {
   "cell_type": "markdown",
   "metadata": {},
   "source": [
    "As shown from the results above, the portfolio 12 is the best portfolio and has the maximum sharp ratio out of all the porfolio. Let us look at the composition of this portfolio. "
   ]
  },
  {
   "cell_type": "code",
   "execution_count": 74,
   "metadata": {},
   "outputs": [],
   "source": [
    "weights = PCWeights()\n",
    "portfolio = portfolio = pd.DataFrame()\n",
    "\n",
    "def plotEigen(weights, plot=False, portfolio=portfolio):\n",
    "    portfolio = pd.DataFrame(data ={'weights': weights.squeeze()*100}, index = stock_tickers) \n",
    "    portfolio.sort_values(by=['weights'], ascending=False, inplace=True)\n",
    "    if plot:\n",
    "        print('Sum of weights of current eigen-portfolio: %.2f' % np.sum(portfolio))\n",
    "        portfolio.plot(title='Current Eigen-Portfolio Weights', \n",
    "            figsize=(12,6), \n",
    "            xticks=range(0, len(stock_tickers),1), \n",
    "            rot=45, \n",
    "            linewidth=3\n",
    "            )\n",
    "        plt.show()\n",
    "\n",
    "\n",
    "    return portfolio"
   ]
  },
  {
   "cell_type": "code",
   "execution_count": 75,
   "metadata": {},
   "outputs": [
    {
     "name": "stdout",
     "output_type": "stream",
     "text": [
      "Sum of weights of current eigen-portfolio: 100.00\n"
     ]
    },
    {
     "data": {
      "image/png": "[encoded data removed]",
      "text/plain": [
       "<Figure size 864x432 with 1 Axes>"
      ]
     },
     "metadata": {
      "needs_background": "light"
     },
     "output_type": "display_data"
    },
    {
     "data": {
      "text/html": [
       "<div>\n",
       "<style scoped>\n",
       "    .dataframe tbody tr th:only-of-type {\n",
       "        vertical-align: middle;\n",
       "    }\n",
       "\n",
       "    .dataframe tbody tr th {\n",
       "        vertical-align: top;\n",
       "    }\n",
       "\n",
       "    .dataframe thead th {\n",
       "        text-align: right;\n",
       "    }\n",
       "</style>\n",
       "<table border=\"1\" class=\"dataframe\">\n",
       "  <thead>\n",
       "    <tr style=\"text-align: right;\">\n",
       "      <th></th>\n",
       "      <th>weights</th>\n",
       "    </tr>\n",
       "  </thead>\n",
       "  <tbody>\n",
       "    <tr>\n",
       "      <th>IVV</th>\n",
       "      <td>10.308</td>\n",
       "    </tr>\n",
       "    <tr>\n",
       "      <th>MGV</th>\n",
       "      <td>10.284</td>\n",
       "    </tr>\n",
       "    <tr>\n",
       "      <th>VTI</th>\n",
       "      <td>10.249</td>\n",
       "    </tr>\n",
       "    <tr>\n",
       "      <th>ITOT</th>\n",
       "      <td>10.216</td>\n",
       "    </tr>\n",
       "    <tr>\n",
       "      <th>SUSA</th>\n",
       "      <td>9.923</td>\n",
       "    </tr>\n",
       "    <tr>\n",
       "      <th>VWO</th>\n",
       "      <td>9.720</td>\n",
       "    </tr>\n",
       "    <tr>\n",
       "      <th>VPL</th>\n",
       "      <td>9.578</td>\n",
       "    </tr>\n",
       "    <tr>\n",
       "      <th>QQQ</th>\n",
       "      <td>9.279</td>\n",
       "    </tr>\n",
       "    <tr>\n",
       "      <th>IJR</th>\n",
       "      <td>8.841</td>\n",
       "    </tr>\n",
       "    <tr>\n",
       "      <th>CXSE</th>\n",
       "      <td>6.064</td>\n",
       "    </tr>\n",
       "    <tr>\n",
       "      <th>HYEM</th>\n",
       "      <td>3.813</td>\n",
       "    </tr>\n",
       "    <tr>\n",
       "      <th>CEMB</th>\n",
       "      <td>1.726</td>\n",
       "    </tr>\n",
       "  </tbody>\n",
       "</table>\n",
       "</div>"
      ],
      "text/plain": [
       "      weights\n",
       "IVV    10.308\n",
       "MGV    10.284\n",
       "VTI    10.249\n",
       "ITOT   10.216\n",
       "SUSA    9.923\n",
       "VWO     9.720\n",
       "VPL     9.578\n",
       "QQQ     9.279\n",
       "IJR     8.841\n",
       "CXSE    6.064\n",
       "HYEM    3.813\n",
       "CEMB    1.726"
      ]
     },
     "execution_count": 75,
     "metadata": {},
     "output_type": "execute_result"
    }
   ],
   "source": [
    "# Weights are stored in arrays, where 0 is the first PC's weights.\n",
    "plotEigen(weights=weights[0], plot=True)"
   ]
  },
  {
   "cell_type": "markdown",
   "metadata": {},
   "source": [
    "The chart shows the allocation of the best portfolio. The weights in the chart are in\n",
    "percentages. "
   ]
  },
  {
   "cell_type": "markdown",
   "metadata": {},
   "source": [
    "<a id='4.2.4'></a>\n",
    "## 5.2.4. Backtesting Eigenportfolio"
   ]
  },
  {
   "cell_type": "markdown",
   "metadata": {},
   "source": [
    "We will now try to backtest this algorithm on the test set, by looking at few top and bottom portfolios."
   ]
  },
  {
   "cell_type": "code",
   "execution_count": 80,
   "metadata": {},
   "outputs": [
    {
     "name": "stdout",
     "output_type": "stream",
     "text": [
      "ITOT   -0.004\n",
      "IVV    -0.004\n",
      "QQQ    -0.010\n",
      "VTI    -0.004\n",
      "CXSE   -0.015\n",
      "IJR    -0.006\n",
      "VPL    -0.004\n",
      "VWO    -0.003\n",
      "SUSA   -0.002\n",
      "CEMB    0.004\n",
      "HYEM    0.001\n",
      "MGV    -0.002\n",
      "Name: 2019-10-18 00:00:00, dtype: float64 ITOT   -0.007\n",
      "IVV    -0.007\n",
      "QQQ    -0.006\n",
      "VTI    -0.008\n",
      "CXSE   -0.009\n",
      "IJR    -0.011\n",
      "VPL     0.004\n",
      "VWO    -0.008\n",
      "SUSA   -0.009\n",
      "CEMB   -0.004\n",
      "HYEM    0.002\n",
      "MGV    -0.009\n",
      "Name: 2022-12-09 00:00:00, dtype: float64\n",
      "Current Eigen-Portfolio:\n",
      "Return = 17.65%\n",
      "Volatility = 13.62%\n",
      "Sharpe = 1.30\n"
     ]
    },
    {
     "data": {
      "image/png": "[encoded data removed]",
      "text/plain": [
       "<Figure size 864x432 with 1 Axes>"
      ]
     },
     "metadata": {
      "needs_background": "light"
     },
     "output_type": "display_data"
    }
   ],
   "source": [
    "def Backtest(eigen):\n",
    "\n",
    "    '''\n",
    "\n",
    "    Plots Principle components returns against real returns.\n",
    "    \n",
    "    '''\n",
    "   \n",
    "    eigen_prtfi = pd.DataFrame(data ={'weights': eigen.squeeze()}, index = stock_tickers)\n",
    "    eigen_prtfi.sort_values(by=['weights'], ascending=False, inplace=True)    \n",
    "\n",
    "    eigen_prti_returns = np.dot(X_test_raw.loc[:, eigen_prtfi.index], eigen)\n",
    "    eigen_portfolio_returns = pd.Series(eigen_prti_returns.squeeze(), index=X_test_raw.index)\n",
    "    returns, vol, sharpe = sharpe_ratio(eigen_portfolio_returns)  \n",
    "    print('Current Eigen-Portfolio:\\nReturn = %.2f%%\\nVolatility = %.2f%%\\nSharpe = %.2f' % (returns*100, vol*100, sharpe))\n",
    "    equal_weight_return=(X_test_raw * (1/len(pca.components_))).sum(axis=1)    \n",
    "    df_plot = pd.DataFrame({'EigenPorfolio Return': eigen_portfolio_returns, 'Equal Weight Index': equal_weight_return}, index=X_test.index)\n",
    "    np.cumprod(df_plot + 1).plot(title='Returns of the equal weighted index vs. eigen-portfolio' , \n",
    "                          figsize=(12,6), linewidth=3)\n",
    "    \n",
    "    \n",
    "    #print(DJ)\n",
    "    #plt.plot(DJ[int(len(DJ)*0.8):]/DJ[int(len(DJ)*0.8)])\n",
    "    plt.show()\n",
    "print(X_test_raw.iloc[0],X_test_raw.iloc[-1]) \n",
    "Backtest(eigen=weights[0])\n",
    "#Backtest(eigen=weights[1])\n"
   ]
  },
  {
   "cell_type": "code",
   "execution_count": 77,
   "metadata": {},
   "outputs": [
    {
     "data": {
      "text/plain": [
       "Timestamp('2019-10-18 00:00:00')"
      ]
     },
     "execution_count": 77,
     "metadata": {},
     "output_type": "execute_result"
    }
   ],
   "source": [
    "X_test.index[0]"
   ]
  },
  {
   "cell_type": "markdown",
   "metadata": {},
   "source": [
    "As shown in charts above the eigen portfolio return of the top portfolios outperform\n",
    "the equally weighted portfolio and the eigen portfolio ranked 19 underperformed the\n",
    "market significantly in the test set. "
   ]
  },
  {
   "cell_type": "markdown",
   "metadata": {},
   "source": [
    "__Conclusion__\n",
    "\n",
    "In terms of the intuition behind the eigen portfolios, we demonstrated that the first\n",
    "eigen portfolio represents a systematic risk factor and other eigen portfolio may represent sector or industry factor. We discuss diversification benefits offered by the eigen\n",
    "portfolios as they are derived using PCA and are independent.\n",
    "\n",
    "\n",
    "Looking at the backtesting result, the portfolio with the best result in the training set\n",
    "leads to the best result in the test set. By using PCA, we get independent eigen portfo‐\n",
    "lios with higher return and sharp ratio as compared to market.\n"
   ]
  },
  {
   "cell_type": "code",
   "execution_count": 35,
   "metadata": {},
   "outputs": [],
   "source": [
    "import cvxopt as opt\n",
    "from cvxopt import blas, solvers"
   ]
  },
  {
   "cell_type": "code",
   "execution_count": 36,
   "metadata": {},
   "outputs": [],
   "source": [
    "def get_asset_allocation(riskTolerance,stock_ticker):\n",
    "    #ipdb.set_trace()\n",
    "    assets_selected = assets.loc[:,stock_ticker]\n",
    "    return_vec = np.array(assets_selected.pct_change().dropna(axis=0)).T\n",
    "    n = len(return_vec)\n",
    "    returns = np.asmatrix(return_vec)\n",
    "    mus = 1-riskTolerance\n",
    "    \n",
    "    # Convert to cvxopt matrices\n",
    "    S = opt.matrix(np.cov(return_vec))\n",
    "    pbar = opt.matrix(np.mean(return_vec, axis=1))\n",
    "    \n",
    "    # Create constraint matrices\n",
    "    G = -opt.matrix(np.eye(n))   # negative n x n identity matrix\n",
    "    h = opt.matrix(0.0, (n ,1))\n",
    "    A = opt.matrix(1.0, (1, n))\n",
    "    b = opt.matrix(1.0)\n",
    "    \n",
    "    # Calculate efficient frontier weights using quadratic programming\n",
    "    portfolios = solvers.qp(mus*S, -pbar, G, h, A, b)\n",
    "    w=portfolios['x'].T\n",
    "    print (w)\n",
    "    Alloc =  pd.DataFrame(data = np.array(portfolios['x']),index = assets_selected.columns)\n",
    "\n",
    "    # Calculate efficient frontier weights using quadratic programming\n",
    "    portfolios = solvers.qp(mus*S, -pbar, G, h, A, b)\n",
    "    returns_final=(np.array(assets_selected) * np.array(w))\n",
    "    returns_sum = np.sum(returns_final,axis =1)\n",
    "    returns_sum_pd = pd.DataFrame(returns_sum, index = assets.index )\n",
    "    returns_sum_pd = returns_sum_pd - returns_sum_pd.iloc[0,:] + 100   \n",
    "    return Alloc,returns_sum_pd"
   ]
  },
  {
   "cell_type": "markdown",
   "metadata": {},
   "source": [
    "$$\n",
    "\\mathcal{L} = \\bar{x}^T \\mu \\mathbf{S} \\bar{x}  - \\mathbf{R}  x\\\\\n",
    "\\sum x = 1 \\\\\n",
    " x_{i} > 0 \n",
    "$$"
   ]
  },
  {
   "cell_type": "code",
   "execution_count": 41,
   "metadata": {},
   "outputs": [
    {
     "name": "stdout",
     "output_type": "stream",
     "text": [
      "13\n",
      "     pcost       dcost       gap    pres   dres\n",
      " 0: -5.5290e-04 -1.0010e+00  1e+00  2e-16  4e+00\n",
      " 1: -5.5305e-04 -1.0990e-02  1e-02  2e-16  4e-02\n",
      " 2: -5.6625e-04 -1.0899e-03  5e-04  7e-17  2e-03\n",
      " 3: -9.3428e-04 -1.1608e-03  2e-04  2e-16  2e-04\n",
      " 4: -9.7687e-04 -9.9163e-04  1e-05  1e-16  1e-05\n",
      " 5: -9.8979e-04 -9.8994e-04  2e-07  1e-16  1e-07\n",
      " 6: -9.8992e-04 -9.8992e-04  2e-09  1e-16  1e-09\n",
      "Optimal solution found.\n",
      "[ 1.12e-08  1.11e-06  1.23e-06  1.00e+00  1.10e-06  3.97e-08  3.39e-07 ... ]\n",
      "\n"
     ]
    }
   ],
   "source": [
    "riskTolerance = 1\n",
    "\n",
    "mus = 1-riskTolerance\n",
    "n = len(datareturns.T)\n",
    "print(n)\n",
    "# Convert to cvxopt matrices\n",
    "S = opt.matrix(np.cov(datareturns.T))\n",
    "pbar = opt.matrix(np.mean(datareturns.T, axis=1))\n",
    "\n",
    "# Create constraint matrices\n",
    "G = -opt.matrix(np.eye(n))   # negative n x n identity matrix\n",
    "h = opt.matrix(0.0, (n ,1))\n",
    "A = opt.matrix(1.0, (1, n))\n",
    "b = opt.matrix(1.0)\n",
    "\n",
    "# Calculate efficient frontier weights using quadratic programming\n",
    "portfolios = solvers.qp(mus*S, -pbar, G, h, A, b)\n",
    "w=portfolios['x'].T\n",
    "print (w)"
   ]
  },
  {
   "cell_type": "code",
   "execution_count": 42,
   "metadata": {
    "tags": []
   },
   "outputs": [
    {
     "name": "stdout",
     "output_type": "stream",
     "text": [
      "0 1.1212098768800132e-08\n",
      "1 1.1088526619306669e-06\n",
      "2 1.2331830538819965e-06\n",
      "3 0.999994552389267\n",
      "4 1.1022399864872561e-06\n",
      "5 3.9650007184845955e-08\n",
      "6 3.3882384014414216e-07\n",
      "7 4.863848364638396e-08\n",
      "8 2.514762299311416e-08\n",
      "9 9.706211546391759e-07\n",
      "10 1.1900027246135151e-08\n",
      "11 1.351147661021412e-08\n",
      "12 5.438303194096265e-07\n"
     ]
    }
   ],
   "source": [
    "for i,ww in enumerate(w):\n",
    "    print(i,ww)"
   ]
  },
  {
   "cell_type": "code",
   "execution_count": 43,
   "metadata": {
    "tags": []
   },
   "outputs": [
    {
     "data": {
      "text/plain": [
       "Date\n",
       "2012-12-04   -6.088e-04\n",
       "2012-12-05   -1.112e-02\n",
       "2012-12-06    6.472e-03\n",
       "2012-12-07   -5.971e-03\n",
       "2012-12-10    2.926e-03\n",
       "                ...    \n",
       "2022-11-25   -6.578e-03\n",
       "2022-11-28   -1.467e-02\n",
       "2022-11-29   -7.570e-03\n",
       "2022-12-01    1.227e-03\n",
       "2022-12-02   -3.983e-03\n",
       "Name: QQQ, Length: 2374, dtype: float64"
      ]
     },
     "execution_count": 43,
     "metadata": {},
     "output_type": "execute_result"
    }
   ],
   "source": [
    "datareturns.T.iloc[3]"
   ]
  },
  {
   "cell_type": "code",
   "execution_count": 140,
   "metadata": {},
   "outputs": [],
   "source": [
    "x = np.linspace(0,1)"
   ]
  },
  {
   "cell_type": "code",
   "execution_count": 148,
   "metadata": {},
   "outputs": [],
   "source": [
    "x3 = np.tile(x,(len(x),len(x),1))\n",
    "y3 = np.zeros_like(x3)\n",
    "z3 = np.zeros_like(x3)\n",
    "for i in range(len(x)):\n",
    "    y3[:,i,:] = x3[:,:,i]\n",
    "for i in range(len(x)):\n",
    "    z3[i,:,:] = x3[:,:,i]\n"
   ]
  },
  {
   "cell_type": "code",
   "execution_count": 144,
   "metadata": {},
   "outputs": [
    {
     "data": {
      "text/plain": [
       "(50, 50, 50)"
      ]
     },
     "execution_count": 144,
     "metadata": {},
     "output_type": "execute_result"
    }
   ],
   "source": [
    "yy3 = np.tile(x,(len(x),len(x),1))\n"
   ]
  },
  {
   "cell_type": "code",
   "execution_count": 149,
   "metadata": {},
   "outputs": [],
   "source": []
  },
  {
   "cell_type": "code",
   "execution_count": 159,
   "metadata": {},
   "outputs": [
    {
     "data": {
      "text/plain": [
       "array([[0., 0., 0., ..., 0., 0., 0.],\n",
       "       [0., 0., 0., ..., 0., 0., 0.],\n",
       "       [0., 0., 0., ..., 0., 0., 0.],\n",
       "       ...,\n",
       "       [0., 0., 0., ..., 0., 0., 0.],\n",
       "       [0., 0., 0., ..., 0., 0., 0.],\n",
       "       [0., 0., 0., ..., 0., 0., 0.]])"
      ]
     },
     "execution_count": 159,
     "metadata": {},
     "output_type": "execute_result"
    }
   ],
   "source": [
    "z3[0,:,:]"
   ]
  },
  {
   "cell_type": "code",
   "execution_count": null,
   "metadata": {},
   "outputs": [],
   "source": []
  },
  {
   "cell_type": "code",
   "execution_count": null,
   "metadata": {},
   "outputs": [],
   "source": []
  }
 ],
 "metadata": {
  "_change_revision": 206,
  "_is_fork": false,
  "kernelspec": {
   "display_name": "Python 3",
   "language": "python",
   "name": "python3"
  },
  "language_info": {
   "codemirror_mode": {
    "name": "ipython",
    "version": 3
   },
   "file_extension": ".py",
   "mimetype": "text/x-python",
   "name": "python",
   "nbconvert_exporter": "python",
   "pygments_lexer": "ipython3",
   "version": "3.8.8"
  }
 },
 "nbformat": 4,
 "nbformat_minor": 4
}
